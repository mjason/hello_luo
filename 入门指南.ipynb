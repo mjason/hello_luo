{
 "cells": [
  {
   "cell_type": "markdown",
   "id": "368b0628-211b-4d16-8e61-3c3e3a7fd41b",
   "metadata": {},
   "source": [
    "# 入门指南\n",
    "\n",
    "本节课为 Luo 使用入门指南，为0基础的同学服务，学习完本课程你将会学到以下知识\n",
    "1. Ruby 基础语法\n",
    "2. Erb 模板语法说明\n",
    "3. 常用命令行工具说明\n",
    "\n",
    "## 为什么 Luo 不使用 Python 而使用 Ruby\n",
    "1. Luo 大量使用 DSL 技术，追求的是让大家用更少的代码和更加统一的技术来和大模型交互\n",
    "2. LLM 编程最重要的是正则表达式的应用，业界处理正则表达式最好的是Ruby和Perl\n",
    "3. Ruby有很好的包管理，未来配合大模型平台，能够快速完成业务部署\n",
    "4. Erb的内置支持，对写 prompt 来说是一个特别大的助力"
   ]
  },
  {
   "cell_type": "markdown",
   "id": "af53359b-ba04-4a2f-96f4-e5d440bb3ca2",
   "metadata": {},
   "source": [
    "## 基础语法入门"
   ]
  },
  {
   "cell_type": "code",
   "execution_count": 9,
   "id": "de12adb6-397e-40a0-9ec9-59bfb481687f",
   "metadata": {},
   "outputs": [
    {
     "name": "stdout",
     "output_type": "stream",
     "text": [
      "Hello, Ruby!\n"
     ]
    }
   ],
   "source": [
    "# Ruby的基本语法：向学习者介绍Ruby的基本语法。Ruby的语句通常以换行符结束，而不需要使用分号。例如，学习者可以向他们展示如何输出一条简单的消息：\n",
    "\n",
    "puts \"Hello, Ruby!\""
   ]
  },
  {
   "cell_type": "code",
   "execution_count": 2,
   "id": "495fbe68-3b1b-42d6-ac0a-e316bc3e4c30",
   "metadata": {},
   "outputs": [
    {
     "data": {
      "text/plain": [
       "true"
      ]
     },
     "execution_count": 2,
     "metadata": {},
     "output_type": "execute_result"
    }
   ],
   "source": [
    "# 变量和数据类型：解释Ruby中的变量和数据类型的概念。Ruby是一种动态类型语言，不需要显式地声明变量类型。例如：\n",
    "name = \"Alice\"\n",
    "age = 25\n",
    "is_student = true"
   ]
  },
  {
   "cell_type": "code",
   "execution_count": 3,
   "id": "9456ea92-9396-4bee-8cd9-556a9e4a8d2d",
   "metadata": {},
   "outputs": [
    {
     "name": "stdout",
     "output_type": "stream",
     "text": [
      "You are an adult.\n",
      "Count: 0\n",
      "Count: 1\n",
      "Count: 2\n",
      "Count: 3\n",
      "Count: 4\n"
     ]
    },
    {
     "data": {
      "text/plain": [
       "5"
      ]
     },
     "execution_count": 3,
     "metadata": {},
     "output_type": "execute_result"
    }
   ],
   "source": [
    "# 控制流语句：介绍条件语句（if/else）和循环语句（while、for循环）的使用。例如：\n",
    "if age >= 18\n",
    "  puts \"You are an adult.\"\n",
    "else\n",
    "  puts \"You are a minor.\"\n",
    "end\n",
    "\n",
    "# 循环示例\n",
    "5.times do |i|\n",
    "  puts \"Count: #{i}\"\n",
    "end"
   ]
  },
  {
   "cell_type": "code",
   "execution_count": 11,
   "id": "2727c50d-2524-4cde-9585-8c368247b392",
   "metadata": {},
   "outputs": [
    {
     "name": "stdout",
     "output_type": "stream",
     "text": [
      "Hello! 111\n"
     ]
    }
   ],
   "source": [
    "# 函数和方法：讲解如何定义和调用函数和方法。Ruby中使用def关键字定义函数和方法。例如：\n",
    "def say_hello\n",
    "  puts \"Hello! 111\"\n",
    "end\n",
    "\n",
    "say_hello"
   ]
  },
  {
   "cell_type": "code",
   "execution_count": 5,
   "id": "c75cddb6-4eb3-4e4e-88b9-c527f92bb167",
   "metadata": {},
   "outputs": [
    {
     "name": "stdout",
     "output_type": "stream",
     "text": [
      "apple\n",
      "Alice\n"
     ]
    }
   ],
   "source": [
    "# 数据结构：介绍数组（Array）和哈希（Hash）等常用的数据结构。例如：\n",
    "# 数组\n",
    "fruits = [\"apple\", \"banana\", \"orange\"]\n",
    "puts fruits[0] # 输出第一个元素\n",
    "\n",
    "# 哈希\n",
    "person = { \"name\" => \"Alice\", \"age\" => 25 }\n",
    "puts person[\"name\"] # 输出\"name\"键对应的值"
   ]
  },
  {
   "cell_type": "code",
   "execution_count": 6,
   "id": "cd7b173c-d46a-4aba-b79c-8872fbc39803",
   "metadata": {},
   "outputs": [
    {
     "name": "stdout",
     "output_type": "stream",
     "text": [
      "Hello, Alice!\n"
     ]
    }
   ],
   "source": [
    "# 类和对象：解释Ruby中的类和对象的概念，以及如何定义和使用它们。例如：\n",
    "class Person\n",
    "  def initialize(name)\n",
    "    @name = name\n",
    "  end\n",
    "\n",
    "  def say_hello\n",
    "    puts \"Hello, #{@name}!\"\n",
    "  end\n",
    "end\n",
    "\n",
    "person = Person.new(\"Alice\")\n",
    "person.say_hello"
   ]
  },
  {
   "cell_type": "markdown",
   "id": "5ed1dcc8-5e4d-4f37-95fe-e2d912e17d09",
   "metadata": {},
   "source": [
    "## 循环\n",
    "当涉及到循环时，Ruby提供了几种不同的语法结构来执行迭代操作。下面是几种常见的循环语法：\n",
    "\n",
    "1. `while` 循环：\n",
    "\n",
    "```ruby\n",
    "i = 0\n",
    "while i < 5 do\n",
    "  puts i\n",
    "  i += 1\n",
    "end\n",
    "```\n",
    "\n",
    "上述代码将打印出从 0 到 4 的数字。\n",
    "\n",
    "2. `until` 循环：\n",
    "\n",
    "```ruby\n",
    "i = 0\n",
    "until i >= 5 do\n",
    "  puts i\n",
    "  i += 1\n",
    "end\n",
    "```\n",
    "\n",
    "`until` 循环会在条件为假时执行，上述代码与 `while` 循环的效果相同。\n",
    "\n",
    "3. `for` 循环：\n",
    "\n",
    "```ruby\n",
    "for i in 0..4 do\n",
    "  puts i\n",
    "end\n",
    "```\n",
    "\n",
    "这段代码将打印从 0 到 4 的数字。`for` 循环可以用于遍历一个范围（range）或一个数组。\n",
    "\n",
    "4. `.each` 方法：\n",
    "\n",
    "```ruby\n",
    "(0..4).each do |i|\n",
    "  puts i\n",
    "end\n",
    "```\n",
    "\n",
    "上述代码使用 `.each` 方法遍历了一个范围，并打印出其中的数字。同样，也可以使用 `.each` 方法遍历数组。\n",
    "\n",
    "5. `.times` 方法：\n",
    "\n",
    "```ruby\n",
    "5.times do |i|\n",
    "  puts i\n",
    "end\n",
    "```\n",
    "\n",
    "`.times` 方法会执行指定次数的循环，并传递一个递增的计数器给代码块。\n",
    "\n",
    "这些是Ruby中常用的循环语法。另外，还有一些其他的循环控制语句可以在循环中使用，如 `break`（提前结束循环）和 `next`（跳过当前迭代继续下一次迭代）。学习者可以进一步探索这些语法结构，并根据具体情况选择适合的循环方式。\n",
    "\n",
    "需要注意的是，在使用循环时，要确保设置适当的终止条件，以避免无限循环。同时，尽量使用具有可读性和简洁性的代码，以提高代码的可维护性。\n",
    "\n",
    "希望这些示例能帮助学习者理解和使用Ruby中的循环语法。如果有任何进一步的问题，请随时提问。"
   ]
  },
  {
   "cell_type": "markdown",
   "id": "d756689e-0698-426c-bd5f-5429de8ad4ca",
   "metadata": {},
   "source": [
    "当使用数组和哈希（Hash）时，Ruby提供了 `.each` 方法来遍历它们的元素。`.each` 方法允许你对每个元素执行相同的操作或代码块。\n",
    "\n",
    "1. 数组（Array）的 `.each` 方法：\n",
    "```ruby\n",
    "fruits = [\"apple\", \"banana\", \"orange\"]\n",
    "\n",
    "fruits.each do |fruit|\n",
    "  puts fruit\n",
    "end\n",
    "```\n",
    "上述代码中，`.each` 方法用于遍历 `fruits` 数组中的每个元素，并将当前元素赋值给变量 `fruit`。然后，代码块中的代码会对每个元素执行一次，打印出水果的名称。\n",
    "\n",
    "2. 哈希（Hash）的 `.each` 方法：\n",
    "```ruby\n",
    "person = { \"name\" => \"Alice\", \"age\" => 25, \"gender\" => \"female\" }\n",
    "\n",
    "person.each do |key, value|\n",
    "  puts \"#{key}: #{value}\"\n",
    "end\n",
    "```\n",
    "上述代码中，`.each` 方法用于遍历 `person` 哈希中的每个键值对，并将当前键赋值给变量 `key`，将当前值赋值给变量 `value`。然后，代码块中的代码对每个键值对执行一次，打印出键和对应的值。\n",
    "\n",
    "通过使用 `.each` 方法，你可以遍历数组和哈希中的元素，并对每个元素执行特定的操作。这种迭代的方式能够使你更方便地处理数据集合。\n",
    "\n",
    "此外，还可以使用其他类似的方法，如 `.each_with_index`，它提供了索引值的迭代方式：\n",
    "```ruby\n",
    "fruits = [\"apple\", \"banana\", \"orange\"]\n",
    "\n",
    "fruits.each_with_index do |fruit, index|\n",
    "  puts \"#{index}: #{fruit}\"\n",
    "end\n",
    "```\n",
    "上述代码中，`.each_with_index` 方法将当前元素和索引值作为块变量传递给代码块。\n",
    "\n",
    "希望这些示例能帮助你理解如何使用 `.each` 方法遍历数组和哈希，并对每个元素执行相应的操作。如有任何进一步的问题，请随时提问。"
   ]
  },
  {
   "cell_type": "markdown",
   "id": "d15a0645-51db-4976-b449-a2051638320f",
   "metadata": {},
   "source": [
    "## 正则表达式\n",
    "> 大模型的变成最终就是正则表达式，和markdown解析\n",
    "\n",
    "正则表达式（Regular Expression）是一种强大的工具，用于在字符串中进行模式匹配和文本处理。Ruby内置了对正则表达式的支持，你可以使用正则表达式来搜索、替换、验证和提取文本数据。\n",
    "\n",
    "在Ruby中，你可以使用斜杠（`/`）将正则表达式包围起来，以指示它是一个正则表达式。以下是一些正则表达式的常见用法示例：\n",
    "\n",
    "1. 匹配文本：\n",
    "```ruby\n",
    "text = \"Hello, Ruby!\"\n",
    "\n",
    "if text =~ /Ruby/\n",
    "  puts \"Match found!\"\n",
    "end\n",
    "```\n",
    "上述代码中，`=~` 运算符用于检查文本是否匹配正则表达式 `/Ruby/`。如果匹配成功，则输出 \"Match found!\"。\n",
    "\n",
    "2. 替换文本：\n",
    "```ruby\n",
    "text = \"Hello, World!\"\n",
    "\n",
    "new_text = text.sub(/World/, \"Ruby\")\n",
    "\n",
    "puts new_text\n",
    "```\n",
    "上述代码中，`sub` 方法用于将第一个匹配的子字符串（在这里是 \"World\"）替换为指定的字符串（\"Ruby\"）。它返回一个新的字符串，输出结果为 \"Hello, Ruby!\"。\n",
    "\n",
    "3. 提取文本：\n",
    "```ruby\n",
    "text = \"My email is john@example.com\"\n",
    "\n",
    "email = text.match(/\\b[A-Za-z0-9._%+-]+@[A-Za-z0-9.-]+\\.[A-Za-z]{2,}\\b/)\n",
    "\n",
    "puts email[0]\n",
    "```\n",
    "上述代码中，`match` 方法用于从文本中提取与正则表达式匹配的部分。正则表达式 `/\\b[A-Za-z0-9._%+-]+@[A-Za-z0-9.-]+\\.[A-Za-z]{2,}\\b/` 用于匹配电子邮件地址。通过索引 `[0]`，我们可以访问匹配的结果。\n",
    "\n",
    "这只是正则表达式的一小部分功能示例。正则表达式语法非常灵活，可以通过使用元字符（如`^`、`$`、`.`、`*`、`+`、`?`等）和字符类（如`[]`）来构建更复杂的匹配规则。你可以根据具体的需求和匹配要求进一步学习和探索正则表达式的功能。\n",
    "\n",
    "在Ruby中，还有许多正则表达式相关的方法可以使用，例如 `scan`、`split`、`gsub` 等。这些方法可以在字符串中执行更复杂的操作，如全局替换、字符串拆分等。\n",
    "\n",
    "希望这个简介能帮助你入门正则表达式在Ruby中的使用。如果你有任何进一步的问题，请随时提问。"
   ]
  },
  {
   "cell_type": "markdown",
   "id": "1fec7068-302d-420d-ba7b-2228fc638aa8",
   "metadata": {},
   "source": [
    "## Erb 语法说明\n",
    "\n",
    "如果你要使用ERB来生成提示（prompt）或其他文本内容，你可以遵循下面的ERB语法和示例：\n",
    "\n",
    "1. ERB注释：使用 `<%# %>` 标签可以在ERB模板中添加注释，这些注释不会出现在最终的输出中。\n",
    "\n",
    "   ```\n",
    "   <%# This is a comment. It won't be visible in the output %>\n",
    "   ```\n",
    "   \n",
    "\n",
    "2. 变量插值：使用 `<%= %>` 标签来插入变量的值到生成的文本中。\n",
    "\n",
    "   ```\n",
    "   <% name = \"Alice\" %>\n",
    "   Hello, <%= name %>!\n",
    "   ```\n",
    "   \n",
    "   \n",
    "\n",
    "   上述代码中，变量 `name` 的值将被插入到输出文本中。\n",
    "\n",
    "3. 条件语句：使用 `<% if condition %>` 和 `<% end %>` 标签来添加条件语句。\n",
    "\n",
    "   ```\n",
    "   <% condition = true %>\n",
    "   <% if condition %>\n",
    "     This condition is true.\n",
    "   <% end %>\n",
    "   ```\n",
    "   \n",
    "   \n",
    "\n",
    "   在上述示例中，根据 `condition` 的值，条件语句将决定是否输出特定的文本。\n",
    "\n",
    "4. 迭代循环：使用 `<% array.each do |element| %>` 和 `<% end %>` 标签来进行迭代循环。\n",
    "\n",
    "   ```\n",
    "   <% fruits = [\"apple\", \"banana\", \"orange\"] %>\n",
    "   <% fruits.each do |fruit| %>\n",
    "     <%= fruit %>\n",
    "   <% end %>\n",
    "   ```\n",
    "   \n",
    "   \n",
    "\n",
    "   上述代码中，对于 `fruits` 数组中的每个元素，将执行循环并将其插入到输出文本中。\n",
    "\n",
    "5. 转义输出：使用 `<%=h %>` 标签可以将文本进行HTML转义，以避免潜在的安全问题。\n",
    "\n",
    "   ```\n",
    "   <% input = \"<script>alert('XSS Attack!');</script>\" %>\n",
    "   <%=h input %>\n",
    "   ```\n",
    "   \n",
    "   \n",
    "   在上述示例中，`<%=h %>` 标签将会转义输入文本中的HTML标签，以确保输出的安全性。\n",
    "\n",
    "这些是一些基本的ERB语法示例，用于生成提示或其他文本内容。你可以根据自己的需求进一步学习和探索ERB的功能。\n",
    "\n",
    "请注意，在使用ERB时，要谨慎处理用户输入，以防止潜在的安全漏洞，如跨站脚本攻击（XSS）等。\n",
    "\n",
    "希望这些示例对你有所帮助。如果你有任何进一步的问题，请随时提问。"
   ]
  }
 ],
 "metadata": {
  "kernelspec": {
   "display_name": "Ruby 3.2.2",
   "language": "ruby",
   "name": "ruby"
  },
  "language_info": {
   "file_extension": ".rb",
   "mimetype": "application/x-ruby",
   "name": "ruby",
   "version": "3.2.2"
  }
 },
 "nbformat": 4,
 "nbformat_minor": 5
}
