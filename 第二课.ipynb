{
 "cells": [
  {
   "cell_type": "markdown",
   "id": "b7dcfbd2-ae26-4d84-a247-e96379243fa1",
   "metadata": {},
   "source": [
    "# 第二课 历史记录处理\n",
    "\n",
    "1. 怎么处理大模型的上下文\n",
    "2. 有什么技巧去处理历史\n",
    "3. 总结"
   ]
  },
  {
   "cell_type": "code",
   "execution_count": 1,
   "id": "42903130-9495-4dc9-8762-2b6982e742ae",
   "metadata": {
    "tags": []
   },
   "outputs": [
    {
     "data": {
      "text/plain": [
       "true"
      ]
     },
     "execution_count": 1,
     "metadata": {},
     "output_type": "execute_result"
    }
   ],
   "source": [
    "# 初始化运行环境\n",
    "require_relative \"init\"\n",
    "require 'pry'\n",
    "IRuby::Kernel.instance.switch_backend!(:pry)"
   ]
  },
  {
   "cell_type": "markdown",
   "id": "0d83efaf-5cc2-4796-b410-f54487a2aac0",
   "metadata": {},
   "source": [
    "## 大模型的上下文如何处理\n",
    "\n",
    "ChatGPT API 的设计使得处理历史记录相对简单。你可以将历史记录作为一个列表传递给 API 的 `messages` 参数。每条消息都是一个字典，包含两个键：\"role\" 和 \"content\"。\n",
    "\n",
    "- \"role\" 可以是 \"system\"、\"user\" 或 \"assistant\"，用于表示消息的角色。\n",
    "- \"content\" 包含实际的文本内容。\n",
    "\n",
    "下面是一个示例代码，展示如何将历史记录传递给 ChatGPT API：\n",
    "\n",
    "```python\n",
    "import openai\n",
    "\n",
    "openai.ChatCompletion.create(\n",
    "  model=\"gpt-3.5-turbo\",\n",
    "  messages=[\n",
    "        {\"role\": \"system\", \"content\": \"You are a helpful assistant.\"},\n",
    "        {\"role\": \"user\", \"content\": \"Who won the world series in 2020?\"},\n",
    "        {\"role\": \"assistant\", \"content\": \"The Los Angeles Dodgers won the World Series in 2020.\"},\n",
    "        {\"role\": \"user\", \"content\": \"Where was it played?\"}\n",
    "    ]\n",
    ")\n",
    "```\n",
    "\n",
    "在这个例子中，我们有一个系统角色的消息作为起始，然后是交替的用户和助手消息。你可以根据需要添加更多的消息。\n",
    "\n",
    "注意，ChatGPT 是一种无状态模型，它只通过上下文理解消息，而不是维护对话状态。因此，当你向 API 发送消息时，确保包含完整的上下文历史，以便模型能够正确理解和回应消息。\n",
    "\n",
    "### 怎么理解 无状态；不是维护对话状态呢"
   ]
  },
  {
   "cell_type": "code",
   "execution_count": 3,
   "id": "b5ee1a4e-8733-4e65-9a29-0cea5a513c2d",
   "metadata": {},
   "outputs": [
    {
     "name": "stdout",
     "output_type": "stream",
     "text": [
      "{:role=>\"user\", :content=>\"明天北京的天气怎么样\"}\n",
      "{:role=>\"assistant\", :content=>\"北京明天的天气多云转晴，气温30度\"}\n"
     ]
    }
   ],
   "source": [
    "histroies = MemoryHistory.new(max_size: 12) #6轮对话\n",
    "\n",
    "histroies.user(\"明天北京的天气怎么样\")\n",
    "histroies.assistant(\"北京明天的天气多云转晴，气温30度\")\n",
    "\n",
    "puts histroies.to_a # 尝试打印一下历史"
   ]
  },
  {
   "cell_type": "code",
   "execution_count": 4,
   "id": "5efe5bd9-b80c-4706-8e6f-b7e59dd32f69",
   "metadata": {},
   "outputs": [
    {
     "name": "stdout",
     "output_type": "stream",
     "text": [
      "{:role=>\"user\", :content=>\"明天北京的天气怎么样\"}\n",
      "{:role=>\"assistant\", :content=>\"北京明天的天气多云转晴，气温30度\"}\n",
      "{:role=>\"user\", :content=>\"那么我明天应该穿什么衣服呢？\"}\n"
     ]
    }
   ],
   "source": [
    "# 我们并没有产生对话，你可以认为这些历史是我伪造的，那么如果我们继续问大模型我应该穿什么衣服会出现什么样的事情呢\n",
    "\n",
    "messages = Messages.create(history: histroies).user(text: \"那么我明天应该穿什么衣服呢？\")\n",
    "\n",
    "puts messages.to_a"
   ]
  },
  {
   "cell_type": "code",
   "execution_count": 5,
   "id": "9528d684-0bd9-4aae-a1d4-968dd6746365",
   "metadata": {},
   "outputs": [
    {
     "name": "stdout",
     "output_type": "stream",
     "text": [
      "根据明天北京的天气预报，气温较高，建议您穿轻薄透气的衣服，如短袖T恤、短裤、裙子等。同时，由于天气晴朗，也建议您戴上太阳镜和防晒霜以保护皮肤。\n"
     ]
    }
   ],
   "source": [
    "client = Xinghuo.new\n",
    "\n",
    "response = client.chat(messages)\n",
    "puts response"
   ]
  },
  {
   "cell_type": "markdown",
   "id": "e4f34e23-02b4-460e-aece-39bac811033a",
   "metadata": {},
   "source": [
    "## 思考？\n",
    "\n",
    "我并没有所谓的多轮对话的过程，就完成了上下文管理。\n",
    "\n",
    "**tips**\n",
    "1. 几乎所有大模型无论是私有部署还是公有云都是用这种形式去提供能力的\n",
    "2. 模型其实并不存在对话历史这东西，有的只是上下文理解\n",
    "3. 上下文是可以篡改的，已达到你要做的效果"
   ]
  },
  {
   "cell_type": "markdown",
   "id": "3b095564-329d-46f6-902c-6270a740f665",
   "metadata": {},
   "source": [
    "## 作业\n",
    "\n",
    "1. assistant这个东西是不是一定要和模型返回的结果是一致的呢？\n",
    "2. 怎么优化历史？"
   ]
  },
  {
   "cell_type": "code",
   "execution_count": null,
   "id": "eea6da6b-c9dc-4f79-b2e5-0fa8a0c69a30",
   "metadata": {},
   "outputs": [],
   "source": []
  }
 ],
 "metadata": {
  "kernelspec": {
   "display_name": "Ruby 3.2.2",
   "language": "ruby",
   "name": "ruby"
  },
  "language_info": {
   "file_extension": ".rb",
   "mimetype": "application/x-ruby",
   "name": "ruby",
   "version": "3.2.2"
  }
 },
 "nbformat": 4,
 "nbformat_minor": 5
}
