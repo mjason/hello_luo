{
 "cells": [
  {
   "cell_type": "markdown",
   "id": "b7dcfbd2-ae26-4d84-a247-e96379243fa1",
   "metadata": {},
   "source": [
    "# 第二课 历史记录处理\n",
    "\n",
    "1. 怎么处理大模型的上下文\n",
    "2. 有什么技巧去处理历史\n",
    "3. 总结"
   ]
  },
  {
   "cell_type": "code",
   "execution_count": null,
   "id": "0aa61ec3-7dd7-4c86-a5ca-a65c0c6d6063",
   "metadata": {},
   "outputs": [],
   "source": []
  },
  {
   "cell_type": "code",
   "execution_count": 1,
   "id": "42903130-9495-4dc9-8762-2b6982e742ae",
   "metadata": {
    "tags": []
   },
   "outputs": [
    {
     "name": "stdout",
     "output_type": "stream",
     "text": [
      "0.2.4\n"
     ]
    }
   ],
   "source": [
    "# 初始化运行环境\n",
    "require 'luo'\n",
    "\n",
    "Luo.notebook_setup do |loader|\n",
    "  loader.push_dir(File.join(__dir__, 'agents'))\n",
    "end\n",
    "\n",
    "puts Luo::VERSION"
   ]
  },
  {
   "cell_type": "markdown",
   "id": "0d83efaf-5cc2-4796-b410-f54487a2aac0",
   "metadata": {},
   "source": [
    "## 大模型的上下文如何处理\n",
    "\n",
    "ChatGPT API 的设计使得处理历史记录相对简单。你可以将历史记录作为一个列表传递给 API 的 `messages` 参数。每条消息都是一个字典，包含两个键：\"role\" 和 \"content\"。\n",
    "\n",
    "- \"role\" 可以是 \"system\"、\"user\" 或 \"assistant\"，用于表示消息的角色。\n",
    "- \"content\" 包含实际的文本内容。\n",
    "\n",
    "下面是一个示例代码，展示如何将历史记录传递给 ChatGPT API：\n",
    "\n",
    "```python\n",
    "import openai\n",
    "\n",
    "openai.ChatCompletion.create(\n",
    "  model=\"gpt-3.5-turbo\",\n",
    "  messages=[\n",
    "        {\"role\": \"system\", \"content\": \"You are a helpful assistant.\"},\n",
    "        {\"role\": \"user\", \"content\": \"Who won the world series in 2020?\"},\n",
    "        {\"role\": \"assistant\", \"content\": \"The Los Angeles Dodgers won the World Series in 2020.\"},\n",
    "        {\"role\": \"user\", \"content\": \"Where was it played?\"}\n",
    "    ]\n",
    ")\n",
    "```\n",
    "\n",
    "在这个例子中，我们有一个系统角色的消息作为起始，然后是交替的用户和助手消息。你可以根据需要添加更多的消息。\n",
    "\n",
    "注意，ChatGPT 是一种无状态模型，它只通过上下文理解消息，而不是维护对话状态。因此，当你向 API 发送消息时，确保包含完整的上下文历史，以便模型能够正确理解和回应消息。\n",
    "\n",
    "### 怎么理解 无状态；不是维护对话状态呢"
   ]
  },
  {
   "cell_type": "code",
   "execution_count": 2,
   "id": "b5ee1a4e-8733-4e65-9a29-0cea5a513c2d",
   "metadata": {},
   "outputs": [
    {
     "name": "stdout",
     "output_type": "stream",
     "text": [
      "{:role=>\"user\", :content=>\"明天北京的天气怎么样\"}\n",
      "{:role=>\"assistant\", :content=>\"北京明天的天气多云转晴，气温30度\"}\n"
     ]
    }
   ],
   "source": [
    "histroies = MemoryHistory.new(max_size: 12) #6轮对话\n",
    "\n",
    "histroies.user(\"明天北京的天气怎么样\")\n",
    "histroies.assistant(\"北京明天的天气多云转晴，气温30度\")\n",
    "\n",
    "puts histroies.to_a # 尝试打印一下历史"
   ]
  },
  {
   "cell_type": "code",
   "execution_count": 3,
   "id": "5efe5bd9-b80c-4706-8e6f-b7e59dd32f69",
   "metadata": {},
   "outputs": [
    {
     "name": "stdout",
     "output_type": "stream",
     "text": [
      "{:role=>\"user\", :content=>\"明天北京的天气怎么样\"}\n",
      "{:role=>\"assistant\", :content=>\"北京明天的天气多云转晴，气温30度\"}\n",
      "{:role=>\"user\", :content=>\"那么我明天应该穿什么衣服呢？\"}\n"
     ]
    }
   ],
   "source": [
    "# 我们并没有产生对话，你可以认为这些历史是我伪造的，那么如果我们继续问大模型我应该穿什么衣服会出现什么样的事情呢\n",
    "\n",
    "messages = Messages.create(history: histroies).user(text: \"那么我明天应该穿什么衣服呢？\")\n",
    "\n",
    "puts messages.to_a"
   ]
  },
  {
   "cell_type": "code",
   "execution_count": 4,
   "id": "9528d684-0bd9-4aae-a1d4-968dd6746365",
   "metadata": {},
   "outputs": [
    {
     "name": "stdout",
     "output_type": "stream",
     "text": [
      "建议您穿轻便透气的衣服，如短袖T恤、短裤等。同时也要注意防晒和保护皮肤，可以携带太阳镜、遮阳帽等防晒用品。\n"
     ]
    }
   ],
   "source": [
    "client = Xinghuo.new\n",
    "\n",
    "response = client.chat(messages)\n",
    "puts response"
   ]
  },
  {
   "cell_type": "markdown",
   "id": "ecc40d45-4b82-47d3-a5b2-74c89678d99e",
   "metadata": {},
   "source": [
    "## 用户喜好的秘密\n",
    "\n",
    "1. 传统 NLP 用户喜好要不使用知识图谱，要不提取实体来做信息导入，处理难度大\n",
    "2. 在大模型时代，用户喜好应该如何处理呢？"
   ]
  },
  {
   "cell_type": "code",
   "execution_count": 11,
   "id": "2e889c85-5141-40b4-bb86-0a7e1a965e5d",
   "metadata": {},
   "outputs": [
    {
     "name": "stdout",
     "output_type": "stream",
     "text": [
      "好的，请问您需要什么口味的菜品？\n"
     ]
    }
   ],
   "source": [
    "# 提供一种思路\n",
    "user_preference = \"点外卖的时候就帮我推荐粤菜\"\n",
    "histroies = MemoryHistory.new(max_size: 12) #6轮对话\n",
    "\n",
    "histroies.user(user_preference)\n",
    "histroies.assistant(\"好的记住了\")\n",
    "\n",
    "histroies.user(\"明天北京的天气怎么样\")\n",
    "histroies.assistant(\"明天北京下雨，气温30度\")\n",
    "\n",
    "messages = Messages.create(history: histroies).user(text: \"我要叫外卖，你推荐一下吧\")\n",
    "\n",
    "client = Xinghuo.new\n",
    "\n",
    "response = client.chat(messages)\n",
    "puts response\n",
    "\n",
    "# 无论你用 GPT 3.5 还是 星火效果都一般，除非你用GPT4，怎么改进"
   ]
  },
  {
   "cell_type": "code",
   "execution_count": 14,
   "id": "4b84fee7-b4ee-461b-bf07-65a612077479",
   "metadata": {},
   "outputs": [
    {
     "name": "stdout",
     "output_type": "stream",
     "text": [
      "好的，以下是一些粤菜的推荐：\n",
      "\n",
      "1. 叉烧饭：香甜可口的叉烧搭配白米饭，是一道经典的粤式美食。\n",
      "\n",
      "2. 清蒸鲈鱼：新鲜的鲈鱼用姜丝、葱丝等调料清蒸，鲜嫩多汁，营养丰富。\n",
      "\n",
      "3. 干炒牛河：选用宽粉和牛肉炒制而成，口感劲道，配上特制的辣椒酱更是美味。\n",
      "\n",
      "4. 蚝油生菜：清淡爽口的生菜叶搭配浓郁的蚝油酱汁，非常适合夏天食用。\n",
      "\n",
      "5. 糖醋排骨：外焦里嫩的排骨肉质鲜美，加上酸甜可口的糖醋汁，让人食欲大增。\n",
      "\n",
      "希望以上推荐能够满足您的口味需求。\n"
     ]
    }
   ],
   "source": [
    "# 提供一种思路\n",
    "user_preference = \"点外卖的时候就帮我推荐粤菜\"\n",
    "histroies = MemoryHistory.new(max_size: 12) #6轮对话\n",
    "\n",
    "histroies.user(user_preference)\n",
    "histroies.assistant(\"好的记住了\")\n",
    "\n",
    "# histroies.user(\"明天北京的天气怎么样\")\n",
    "# histroies.assistant(\"明天北京下雨，气温30度\")\n",
    "\n",
    "messages = Messages.create(history: histroies).user(text: \"我要叫外卖，你推荐一些菜吧\")\n",
    "\n",
    "client = Xinghuo.new\n",
    "\n",
    "response = client.chat(messages)\n",
    "puts response\n",
    "\n",
    "# 无论你用 GPT 3.5 还是 星火效果都一般，除非你用GPT4，怎么改进"
   ]
  },
  {
   "cell_type": "markdown",
   "id": "e4f34e23-02b4-460e-aece-39bac811033a",
   "metadata": {},
   "source": [
    "## 思考？\n",
    "\n",
    "我并没有所谓的多轮对话的过程，就完成了上下文管理。\n",
    "\n",
    "**tips**\n",
    "1. 几乎所有大模型无论是私有部署还是公有云都是用这种形式去提供能力的\n",
    "2. 模型其实并不存在对话历史这东西，有的只是上下文理解\n",
    "3. 上下文是可以篡改的，已达到你要做的效果"
   ]
  },
  {
   "cell_type": "markdown",
   "id": "3b095564-329d-46f6-902c-6270a740f665",
   "metadata": {},
   "source": [
    "## 作业\n",
    "\n",
    "1. assistant这个东西是不是一定要和模型返回的结果是一致的呢？\n",
    "2. 怎么优化历史？"
   ]
  },
  {
   "cell_type": "code",
   "execution_count": null,
   "id": "eea6da6b-c9dc-4f79-b2e5-0fa8a0c69a30",
   "metadata": {},
   "outputs": [],
   "source": []
  }
 ],
 "metadata": {
  "kernelspec": {
   "display_name": "Ruby 3.2.2",
   "language": "ruby",
   "name": "ruby"
  },
  "language_info": {
   "file_extension": ".rb",
   "mimetype": "application/x-ruby",
   "name": "ruby",
   "version": "3.2.2"
  }
 },
 "nbformat": 4,
 "nbformat_minor": 5
}
