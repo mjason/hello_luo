{
 "cells": [
  {
   "cell_type": "code",
   "execution_count": 1,
   "id": "c9f7c8d4-d0ff-4307-9eed-e145adb153ef",
   "metadata": {},
   "outputs": [
    {
     "name": "stdout",
     "output_type": "stream",
     "text": [
      "0.2.4\n"
     ]
    }
   ],
   "source": [
    "# 初始化运行环境\n",
    "require 'luo'\n",
    "\n",
    "Luo.notebook_setup do |loader|\n",
    "  loader.push_dir(File.join(__dir__, 'agents'))\n",
    "end\n",
    "\n",
    "puts Luo::VERSION"
   ]
  },
  {
   "cell_type": "code",
   "execution_count": 8,
   "id": "1b553dc4-9970-45af-968a-eb88b9081ed6",
   "metadata": {},
   "outputs": [
    {
     "data": {
      "text/plain": [
       ":struct_data"
      ]
     },
     "execution_count": 8,
     "metadata": {},
     "output_type": "execute_result"
    }
   ],
   "source": [
    "def struct_data(response)\n",
    "  user_input = \"\"\"\n",
    "  我有一段文本，你需要实现一个方法，处理这段文本，要求如下：\n",
    "  1. 使用正则表达式匹配出key和value，key为【】里面包裹的内容，value为：后面的内容\n",
    "  2. 方法需要返回一个键值对\n",
    "  \n",
    "  以下是你可以使用的测试文本:\n",
    "  #{response}\n",
    "  \"\"\".strip\n",
    "  messages = Messages.create().system(text: \"你是一个ruby专家，和我结对编程\").user(text: user_input)\n",
    "  puts messages.to_a\n",
    "  client = OpenAI.new\n",
    "  client.chat(messages, temperature: 0)\n",
    "end"
   ]
  },
  {
   "cell_type": "code",
   "execution_count": 9,
   "id": "4ea4f6cd-94e0-40a3-a2ab-ebaeaa9a1852",
   "metadata": {},
   "outputs": [
    {
     "name": "stdout",
     "output_type": "stream",
     "text": [
      "{:role=>\"system\", :content=>\"你是一个ruby专家，和我结对编程\"}\n",
      "{:role=>\"user\", :content=>\"我有一段文本，你需要实现一个方法，处理这段文本，要求如下：\\n  1. 使用正则表达式匹配出key和value，key为【】里面包裹的内容，value为：后面的内容\\n  2. 方法需要返回一个键值对\\n  \\n  以下是你可以使用的测试文本:\\n  \\n【跑题判断】：无大幅偏离话题\\n【输入翻译】：我喜欢狗。\\n【语法评价】：句子结构简单，没有明显的语法错误或拼写错误。\\n【地道说法】：I am fond of dogs.\\n【对话回复】：That's a great choice! What kind of dog do you like the most?\"}\n"
     ]
    },
    {
     "data": {
      "text/html": [
       "<style>.highlight table td { padding: 5px; }\n",
       ".highlight table pre { margin: 0; }\n",
       ".highlight, .highlight .w {\n",
       "  color: #24292f;\n",
       "  background-color: #f6f8fa;\n",
       "}\n",
       ".highlight .k, .highlight .kd, .highlight .kn, .highlight .kp, .highlight .kr, .highlight .kt, .highlight .kv {\n",
       "  color: #cf222e;\n",
       "}\n",
       ".highlight .gr {\n",
       "  color: #f6f8fa;\n",
       "}\n",
       ".highlight .gd {\n",
       "  color: #82071e;\n",
       "  background-color: #ffebe9;\n",
       "}\n",
       ".highlight .nb {\n",
       "  color: #953800;\n",
       "}\n",
       ".highlight .nc {\n",
       "  color: #953800;\n",
       "}\n",
       ".highlight .no {\n",
       "  color: #953800;\n",
       "}\n",
       ".highlight .nn {\n",
       "  color: #953800;\n",
       "}\n",
       ".highlight .sr {\n",
       "  color: #116329;\n",
       "}\n",
       ".highlight .na {\n",
       "  color: #116329;\n",
       "}\n",
       ".highlight .nt {\n",
       "  color: #116329;\n",
       "}\n",
       ".highlight .gi {\n",
       "  color: #116329;\n",
       "  background-color: #dafbe1;\n",
       "}\n",
       ".highlight .kc {\n",
       "  color: #0550ae;\n",
       "}\n",
       ".highlight .l, .highlight .ld, .highlight .m, .highlight .mb, .highlight .mf, .highlight .mh, .highlight .mi, .highlight .il, .highlight .mo, .highlight .mx {\n",
       "  color: #0550ae;\n",
       "}\n",
       ".highlight .sb {\n",
       "  color: #0550ae;\n",
       "}\n",
       ".highlight .bp {\n",
       "  color: #0550ae;\n",
       "}\n",
       ".highlight .ne {\n",
       "  color: #0550ae;\n",
       "}\n",
       ".highlight .nl {\n",
       "  color: #0550ae;\n",
       "}\n",
       ".highlight .py {\n",
       "  color: #0550ae;\n",
       "}\n",
       ".highlight .nv, .highlight .vc, .highlight .vg, .highlight .vi, .highlight .vm {\n",
       "  color: #0550ae;\n",
       "}\n",
       ".highlight .o, .highlight .ow {\n",
       "  color: #0550ae;\n",
       "}\n",
       ".highlight .gh {\n",
       "  color: #0550ae;\n",
       "  font-weight: bold;\n",
       "}\n",
       ".highlight .gu {\n",
       "  color: #0550ae;\n",
       "  font-weight: bold;\n",
       "}\n",
       ".highlight .s, .highlight .sa, .highlight .sc, .highlight .dl, .highlight .sd, .highlight .s2, .highlight .se, .highlight .sh, .highlight .sx, .highlight .s1, .highlight .ss {\n",
       "  color: #0a3069;\n",
       "}\n",
       ".highlight .nd {\n",
       "  color: #8250df;\n",
       "}\n",
       ".highlight .nf, .highlight .fm {\n",
       "  color: #8250df;\n",
       "}\n",
       ".highlight .err {\n",
       "  color: #f6f8fa;\n",
       "  background-color: #82071e;\n",
       "}\n",
       ".highlight .c, .highlight .ch, .highlight .cd, .highlight .cm, .highlight .cp, .highlight .cpf, .highlight .c1, .highlight .cs {\n",
       "  color: #6e7781;\n",
       "}\n",
       ".highlight .gl {\n",
       "  color: #6e7781;\n",
       "}\n",
       ".highlight .gt {\n",
       "  color: #6e7781;\n",
       "}\n",
       ".highlight .ni {\n",
       "  color: #24292f;\n",
       "}\n",
       ".highlight .si {\n",
       "  color: #24292f;\n",
       "}\n",
       ".highlight .ge {\n",
       "  color: #24292f;\n",
       "  font-style: italic;\n",
       "}\n",
       ".highlight .gs {\n",
       "  color: #24292f;\n",
       "  font-weight: bold;\n",
       "}</style>\n",
       "<p>好的，我可以帮你实现这个方法，代码如下：</p>\n",
       "<pre class=\"highlight\"><span class=\"k\">def</span> <span class=\"nf\">extract_key_value</span><span class=\"p\">(</span><span class=\"n\">text</span><span class=\"p\">)</span>\n",
       "  <span class=\"n\">result</span> <span class=\"o\">=</span> <span class=\"p\">{}</span>\n",
       "  <span class=\"n\">text</span><span class=\"p\">.</span><span class=\"nf\">scan</span><span class=\"p\">(</span><span class=\"sr\">/\\【(.+?)\\】\\s*：(.+)/</span><span class=\"p\">)</span> <span class=\"k\">do</span> <span class=\"o\">|</span><span class=\"n\">key</span><span class=\"p\">,</span> <span class=\"n\">value</span><span class=\"o\">|</span>\n",
       "    <span class=\"n\">result</span><span class=\"p\">[</span><span class=\"n\">key</span><span class=\"p\">]</span> <span class=\"o\">=</span> <span class=\"n\">value</span>\n",
       "  <span class=\"k\">end</span>\n",
       "  <span class=\"n\">result</span>\n",
       "<span class=\"k\">end</span>\n",
       "</pre>\n",
       "<p>你可以将上述代码复制到你的编辑器中，然后调用<code>extract_key_value</code>方法，传入测试文本作为参数，即可得到一个包含所有键值对的哈希表。例如：</p>\n",
       "<pre class=\"highlight\"><span class=\"n\">text</span> <span class=\"o\">=</span> <span class=\"s2\">\"【跑题判断】：无大幅偏离话题</span><span class=\"se\">\\n</span><span class=\"s2\">【输入翻译】：我喜欢狗。</span><span class=\"se\">\\n</span><span class=\"s2\">【语法评价】：句子结构简单，没有明显的语法错误或拼写错误。</span><span class=\"se\">\\n</span><span class=\"s2\">【地道说法】：I am fond of dogs.</span><span class=\"se\">\\n</span><span class=\"s2\">【对话回复】：That's a great choice! What kind of dog do you like the most?\"</span>\n",
       "<span class=\"n\">result</span> <span class=\"o\">=</span> <span class=\"n\">extract_key_value</span><span class=\"p\">(</span><span class=\"n\">text</span><span class=\"p\">)</span>\n",
       "<span class=\"nb\">puts</span> <span class=\"n\">result</span><span class=\"p\">.</span><span class=\"nf\">inspect</span>\n",
       "</pre>\n",
       "<p>输出结果为：</p>\n",
       "<pre class=\"highlight\">{\"跑题判断\"=&gt;\"无大幅偏离话题\", \"输入翻译\"=&gt;\"我喜欢狗。\", \"语法评价\"=&gt;\"句子结构简单，没有明显的语法错误或拼写错误。\", \"地道说法\"=&gt;\"I am fond of dogs.\", \"对话回复\"=&gt;\"That's a great choice! What kind of dog do you like the most?\"}\n",
       "</pre>\n",
       "<p>希望这个方法能够满足你的需求。</p>\n",
       "\n"
      ],
      "text/plain": [
       "\"<style>.highlight table td { padding: 5px; }\\n.highlight table pre { margin: 0; }\\n.highlight, .highlight .w {\\n  color: #24292f;\\n  background-color: #f6f8fa;\\n}\\n.highlight .k, .highlight .kd, .highlight .kn, .highlight .kp, .highlight .kr, .highlight .kt, .highlight .kv {\\n  color: #cf222e;\\n}\\n.highlight .gr {\\n  color: #f6f8fa;\\n}\\n.highlight .gd {\\n  color: #82071e;\\n  background-color: #ffebe9;\\n}\\n.highlight .nb {\\n  color: #953800;\\n}\\n.highlight .nc {\\n  color: #953800;\\n}\\n.highlight .no {\\n  color: #953800;\\n}\\n.highlight .nn {\\n  color: #953800;\\n}\\n.highlight .sr {\\n  color: #116329;\\n}\\n.highlight .na {\\n  color: #116329;\\n}\\n.highlight .nt {\\n  color: #116329;\\n}\\n.highlight .gi {\\n  color: #116329;\\n  background-color: #dafbe1;\\n}\\n.highlight .kc {\\n  color: #0550ae;\\n}\\n.highlight .l, .highlight .ld, .highlight .m, .highlight .mb, .highlight .mf, .highlight .mh, .highlight .mi, .highlight .il, .highlight .mo, .highlight .mx {\\n  color: #0550ae;\\n}\\n.highlight .sb {\\n  color: #0550ae;\\n}\\n.highlight .bp {\\n  color: #0550ae;\\n}\\n.highlight .ne {\\n  color: #0550ae;\\n}\\n.highlight .nl {\\n  color: #0550ae;\\n}\\n.highlight .py {\\n  color: #0550ae;\\n}\\n.highlight .nv, .highlight .vc, .highlight .vg, .highlight .vi, .highlight .vm {\\n  color: #0550ae;\\n}\\n.highlight .o, .highlight .ow {\\n  color: #0550ae;\\n}\\n.highlight .gh {\\n  color: #0550ae;\\n  font-weight: bold;\\n}\\n.highlight .gu {\\n  color: #0550ae;\\n  font-weight: bold;\\n}\\n.highlight .s, .highlight .sa, .highlight .sc, .highlight .dl, .highlight .sd, .highlight .s2, .highlight .se, .highlight .sh, .highlight .sx, .highlight .s1, .highlight .ss {\\n  color: #0a3069;\\n}\\n.highlight .nd {\\n  color: #8250df;\\n}\\n.highlight .nf, .highlight .fm {\\n  color: #8250df;\\n}\\n.highlight .err {\\n  color: #f6f8fa;\\n  background-color: #82071e;\\n}\\n.highlight .c, .highlight .ch, .highlight .cd, .highlight .cm, .highlight .cp, .highlight .cpf, .highlight .c1, .highlight .cs {\\n  color: #6e7781;\\n}\\n.highlight .gl {\\n  color: #6e7781;\\n}\\n.highlight .gt {\\n  color: #6e7781;\\n}\\n.highlight .ni {\\n  color: #24292f;\\n}\\n.highlight .si {\\n  color: #24292f;\\n}\\n.highlight .ge {\\n  color: #24292f;\\n  font-style: italic;\\n}\\n.highlight .gs {\\n  color: #24292f;\\n  font-weight: bold;\\n}</style>\\n<p>好的，我可以帮你实现这个方法，代码如下：</p>\\n<pre class=\\\"highlight\\\"><span class=\\\"k\\\">def</span> <span class=\\\"nf\\\">extract_key_value</span><span class=\\\"p\\\">(</span><span class=\\\"n\\\">text</span><span class=\\\"p\\\">)</span>\\n  <span class=\\\"n\\\">result</span> <span class=\\\"o\\\">=</span> <span class=\\\"p\\\">{}</span>\\n  <span class=\\\"n\\\">text</span><span class=\\\"p\\\">.</span><span class=\\\"nf\\\">scan</span><span class=\\\"p\\\">(</span><span class=\\\"sr\\\">/\\\\【(.+?)\\\\】\\\\s*：(.+)/</span><span class=\\\"p\\\">)</span> <span class=\\\"k\\\">do</span> <span class=\\\"o\\\">|</span><span class=\\\"n\\\">key</span><span class=\\\"p\\\">,</span> <span class=\\\"n\\\">value</span><span class=\\\"o\\\">|</span>\\n    <span class=\\\"n\\\">result</span><span class=\\\"p\\\">[</span><span class=\\\"n\\\">key</span><span class=\\\"p\\\">]</span> <span class=\\\"o\\\">=</span> <span class=\\\"n\\\">value</span>\\n  <span class=\\\"k\\\">end</span>\\n  <span class=\\\"n\\\">result</span>\\n<span class=\\\"k\\\">end</span>\\n</pre>\\n<p>你可以将上述代码复制到你的编辑器中，然后调用<code>extract_key_value</code>方法，传入测试文本作为参数，即可得到一个包含所有键值对的哈希表。例如：</p>\\n<pre class=\\\"highlight\\\"><span class=\\\"n\\\">text</span> <span class=\\\"o\\\">=</span> <span class=\\\"s2\\\">\\\"【跑题判断】：无大幅偏离话题</span><span class=\\\"se\\\">\\\\n</span><span class=\\\"s2\\\">【输入翻译】：我喜欢狗。</span><span class=\\\"se\\\">\\\\n</span><span class=\\\"s2\\\">【语法评价】：句子结构简单，没有明显的语法错误或拼写错误。</span><span class=\\\"se\\\">\\\\n</span><span class=\\\"s2\\\">【地道说法】：I am fond of dogs.</span><span class=\\\"se\\\">\\\\n</span><span class=\\\"s2\\\">【对话回复】：That's a great choice! What kind of dog do you like the most?\\\"</span>\\n<span class=\\\"n\\\">result</span> <span class=\\\"o\\\">=</span> <span class=\\\"n\\\">extract_key_value</span><span class=\\\"p\\\">(</span><span class=\\\"n\\\">text</span><span class=\\\"p\\\">)</span>\\n<span class=\\\"nb\\\">puts</span> <span class=\\\"n\\\">result</span><span class=\\\"p\\\">.</span><span class=\\\"nf\\\">inspect</span>\\n</pre>\\n<p>输出结果为：</p>\\n<pre class=\\\"highlight\\\">{\\\"跑题判断\\\"=&gt;\\\"无大幅偏离话题\\\", \\\"输入翻译\\\"=&gt;\\\"我喜欢狗。\\\", \\\"语法评价\\\"=&gt;\\\"句子结构简单，没有明显的语法错误或拼写错误。\\\", \\\"地道说法\\\"=&gt;\\\"I am fond of dogs.\\\", \\\"对话回复\\\"=&gt;\\\"That's a great choice! What kind of dog do you like the most?\\\"}\\n</pre>\\n<p>希望这个方法能够满足你的需求。</p>\\n\\n\""
      ]
     },
     "metadata": {},
     "output_type": "display_data"
    }
   ],
   "source": [
    "input = \"\"\"\n",
    "【跑题判断】：无大幅偏离话题\n",
    "【输入翻译】：我喜欢狗。\n",
    "【语法评价】：句子结构简单，没有明显的语法错误或拼写错误。\n",
    "【地道说法】：I am fond of dogs.\n",
    "【对话回复】：That's a great choice! What kind of dog do you like the most?\n",
    "\"\"\"\n",
    "\n",
    "Helpers.display_md struct_data(input)"
   ]
  },
  {
   "cell_type": "code",
   "execution_count": 10,
   "id": "e71936ca-de6e-4931-8b07-735ba89fd840",
   "metadata": {},
   "outputs": [
    {
     "data": {
      "text/plain": [
       ":extract_key_value"
      ]
     },
     "execution_count": 10,
     "metadata": {},
     "output_type": "execute_result"
    }
   ],
   "source": [
    "def extract_key_value(text)\n",
    "  result = {}\n",
    "  text.scan(/\\【(.+?)\\】\\s*：(.+)/) do |key, value|\n",
    "    result[key] = value\n",
    "  end\n",
    "  result\n",
    "end"
   ]
  },
  {
   "cell_type": "code",
   "execution_count": 11,
   "id": "69786d47-e81f-439e-954d-3620fdbfbdf5",
   "metadata": {},
   "outputs": [
    {
     "name": "stdout",
     "output_type": "stream",
     "text": [
      "{\"跑题判断\"=>\"无大幅偏离话题\", \"输入翻译\"=>\"我喜欢狗。\", \"语法评价\"=>\"句子结构简单，没有明显的语法错误或拼写错误。\", \"地道说法\"=>\"I am fond of dogs.\", \"对话回复\"=>\"That's a great choice! What kind of dog do you like the most?\"}\n"
     ]
    }
   ],
   "source": [
    "puts extract_key_value(input)"
   ]
  },
  {
   "cell_type": "code",
   "execution_count": null,
   "id": "134d6756-673f-4811-bca5-ce723484574d",
   "metadata": {},
   "outputs": [],
   "source": []
  }
 ],
 "metadata": {
  "kernelspec": {
   "display_name": "Ruby 3.2.2",
   "language": "ruby",
   "name": "ruby"
  },
  "language_info": {
   "file_extension": ".rb",
   "mimetype": "application/x-ruby",
   "name": "ruby",
   "version": "3.2.2"
  }
 },
 "nbformat": 4,
 "nbformat_minor": 5
}
