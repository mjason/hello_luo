{
 "cells": [
  {
   "cell_type": "markdown",
   "id": "27abde03-4445-467d-ae38-0f8a9873e76f",
   "metadata": {},
   "source": [
    "# 向量数据库的使用办法\n",
    "\n",
    "因为历史记录有token的限制，所以一般而言是可以通过向量工程来做历史管理，在 luo 里面向量集成了 Marqo 数据库的客户端"
   ]
  },
  {
   "cell_type": "code",
   "execution_count": 1,
   "id": "ffb5b6c5-dbae-4f8f-bd3d-671b0eeae7f6",
   "metadata": {},
   "outputs": [
    {
     "name": "stdout",
     "output_type": "stream",
     "text": [
      "0.2.4\n"
     ]
    }
   ],
   "source": [
    "# 初始化运行环境\n",
    "require 'luo'\n",
    "\n",
    "Luo.notebook_setup do |loader|\n",
    "  loader.push_dir(File.join(__dir__, 'agents'))\n",
    "end\n",
    "\n",
    "puts Luo::VERSION"
   ]
  },
  {
   "cell_type": "code",
   "execution_count": 2,
   "id": "7c99e850-bfba-4303-99e6-25fd43bcd3b5",
   "metadata": {},
   "outputs": [
    {
     "data": {
      "text/plain": [
       "\"http://172.17.0.1:8882\""
      ]
     },
     "execution_count": 2,
     "metadata": {},
     "output_type": "execute_result"
    }
   ],
   "source": [
    "# 配置 Marqo 地址\n",
    "\n",
    "Marqo.config.host = \"http://172.17.0.1:8882\""
   ]
  },
  {
   "cell_type": "code",
   "execution_count": 3,
   "id": "8961218c-36f3-48f1-82df-9f02d320c944",
   "metadata": {},
   "outputs": [
    {
     "data": {
      "text/plain": [
       "#<Luo::Marqo:0x00007f9cc00b1288 @index_name=\"test\">"
      ]
     },
     "execution_count": 3,
     "metadata": {},
     "output_type": "execute_result"
    }
   ],
   "source": [
    "marqo = Marqo.new.index(\"test\") # 初始化客户端"
   ]
  },
  {
   "cell_type": "code",
   "execution_count": 4,
   "id": "54a6fd77-a91d-49f9-aeb0-7f4d6c302499",
   "metadata": {},
   "outputs": [
    {
     "data": {
      "text/plain": [
       "#<Faraday::Response:0x00007f9cc008a3e0 @on_complete_callbacks=[], @env=#<Faraday::Env @method=:post @request_body=\"[{\\\"role\\\":\\\"user\\\",\\\"content\\\":\\\"明天天气怎么样\\\"},{\\\"role\\\":\\\"assistant\\\",\\\"content\\\":\\\"广州明天多远转晴天\\\"},{\\\"role\\\":\\\"user\\\",\\\"content\\\":\\\"罗纳尔多是谁\\\"},{\\\"role\\\":\\\"assistant\\\",\\\"content\\\":\\\"是一个非常伟大的9号足球运动员，获得过世界杯冠军\\\"}]\" @url=#<URI::HTTP http://172.17.0.1:8882/indexes/test/documents> @request=#<Faraday::RequestOptions (empty)> @request_headers={\"X-API-KEY\"=>nil, \"User-Agent\"=>\"Faraday v2.7.5\", \"Content-Type\"=>\"application/json\"} @ssl=#<Faraday::SSLOptions verify=true> @response=#<Faraday::Response:0x00007f9cc008a3e0 ...> @response_headers={\"date\"=>\"Thu, 25 May 2023 09:01:22 GMT\", \"server\"=>\"uvicorn\", \"content-length\"=>\"399\", \"content-type\"=>\"application/json\"} @status=200 @reason_phrase=\"OK\" @response_body={\"errors\"=>false, \"processingTimeMs\"=>799.4974590837955, \"index_name\"=>\"test\", \"items\"=>[{\"_id\"=>\"87f35219-edf8-441b-8ded-f75851824890\", \"result\"=>\"created\", \"status\"=>201}, {\"_id\"=>\"c86db9f8-097d-4262-b7a6-43ae1538dbf0\", \"result\"=>\"created\", \"status\"=>201}, {\"_id\"=>\"d92b2fa3-5639-4852-a381-71163fba1c9a\", \"result\"=>\"created\", \"status\"=>201}, {\"_id\"=>\"bf70de34-be70-4e8c-b0e7-0612ef4026b2\", \"result\"=>\"created\", \"status\"=>201}]}>>"
      ]
     },
     "execution_count": 4,
     "metadata": {},
     "output_type": "execute_result"
    }
   ],
   "source": [
    "data = [\n",
    "  {\n",
    "    role: \"user\",\n",
    "    content: \"明天天气怎么样\"\n",
    "  },\n",
    "  {\n",
    "    role: \"assistant\",\n",
    "    content: \"广州明天多远转晴天\"\n",
    "  },\n",
    "  {\n",
    "    role: \"user\",\n",
    "    content: \"罗纳尔多是谁\"\n",
    "  },\n",
    "  {\n",
    "    role: \"assistant\",\n",
    "    content: \"是一个非常伟大的9号足球运动员，获得过世界杯冠军\"\n",
    "  }\n",
    "]\n",
    "marqo.add_documents(data)"
   ]
  },
  {
   "cell_type": "code",
   "execution_count": 14,
   "id": "18c7bf8e-8e7f-4625-ae00-ac06edef2b2b",
   "metadata": {},
   "outputs": [
    {
     "name": "stdout",
     "output_type": "stream",
     "text": []
    },
    {
     "name": "stdout",
     "output_type": "stream",
     "text": [
      "{\"hits\"=>\n",
      "  [{\"role\"=>\"user\",\n",
      "    \"content\"=>\"罗纳尔多是谁\",\n",
      "    \"_id\"=>\"d92b2fa3-5639-4852-a381-71163fba1c9a\",\n",
      "    \"_highlights\"=>{\"content\"=>\"罗纳尔多是谁\"},\n",
      "    \"_score\"=>0.77958477},\n",
      "   {\"role\"=>\"assistant\",\n",
      "    \"content\"=>\"是一个非常伟大的9号足球运动员，获得过世界杯冠军\",\n",
      "    \"_id\"=>\"bf70de34-be70-4e8c-b0e7-0612ef4026b2\",\n",
      "    \"_highlights\"=>{\"content\"=>\"是一个非常伟大的9号足球运动员，获得过世界杯冠军\"},\n",
      "    \"_score\"=>0.74781585},\n",
      "   {\"role\"=>\"user\",\n",
      "    \"content\"=>\"明天天气怎么样\",\n",
      "    \"_id\"=>\"87f35219-edf8-441b-8ded-f75851824890\",\n",
      "    \"_highlights\"=>{\"content\"=>\"明天天气怎么样\"},\n",
      "    \"_score\"=>0.71189624},\n",
      "   {\"role\"=>\"assistant\",\n",
      "    \"content\"=>\"广州明天多远转晴天\",\n",
      "    \"_id\"=>\"c86db9f8-097d-4262-b7a6-43ae1538dbf0\",\n",
      "    \"_highlights\"=>{\"content\"=>\"广州明天多远转晴天\"},\n",
      "    \"_score\"=>0.66948915}],\n",
      " \"query\"=>\"那么罗纳尔多和齐达内谁厉害\",\n",
      " \"limit\"=>10,\n",
      " \"offset\"=>0,\n",
      " \"processingTimeMs\"=>40}\n"
     ]
    },
    {
     "data": {
      "text/plain": [
       "{\"hits\"=>[{\"role\"=>\"user\", \"content\"=>\"罗纳尔多是谁\", \"_id\"=>\"d92b2fa3-5639-4852-a381-71163fba1c9a\", \"_highlights\"=>{\"content\"=>\"罗纳尔多是谁\"}, \"_score\"=>0.77958477}, {\"role\"=>\"assistant\", \"content\"=>\"是一个非常伟大的9号足球运动员，获得过世界杯冠军\", \"_id\"=>\"bf70de34-be70-4e8c-b0e7-0612ef4026b2\", \"_highlights\"=>{\"content\"=>\"是一个非常伟大的9号足球运动员，获得过世界杯冠军\"}, \"_score\"=>0.74781585}, {\"role\"=>\"user\", \"content\"=>\"明天天气怎么样\", \"_id\"=>\"87f35219-edf8-441b-8ded-f75851824890\", \"_highlights\"=>{\"content\"=>\"明天天气怎么样\"}, \"_score\"=>0.71189624}, {\"role\"=>\"assistant\", \"content\"=>\"广州明天多远转晴天\", \"_id\"=>\"c86db9f8-097d-4262-b7a6-43ae1538dbf0\", \"_highlights\"=>{\"content\"=>\"广州明天多远转晴天\"}, \"_score\"=>0.66948915}], \"query\"=>\"那么罗纳尔多和齐达内谁厉害\", \"limit\"=>10, \"offset\"=>0, \"processingTimeMs\"=>40}"
      ]
     },
     "execution_count": 14,
     "metadata": {},
     "output_type": "execute_result"
    }
   ],
   "source": [
    "pp marqo.search(q: \"那么罗纳尔多和齐达内谁厉害\").body"
   ]
  },
  {
   "cell_type": "code",
   "execution_count": 15,
   "id": "263d771f-e832-4c25-80fc-c4eb7fbd6cc9",
   "metadata": {},
   "outputs": [
    {
     "data": {
      "text/plain": [
       "#<Faraday::Response:0x00007f9cc066ff08 @on_complete_callbacks=[], @env=#<Faraday::Env @method=:post @request_body=\"[\\\"c86db9f8-097d-4262-b7a6-43ae1538dbf0\\\"]\" @url=#<URI::HTTP http://172.17.0.1:8882/indexes/test/documents/delete-batch> @request=#<Faraday::RequestOptions (empty)> @request_headers={\"X-API-KEY\"=>nil, \"User-Agent\"=>\"Faraday v2.7.5\", \"Content-Type\"=>\"application/json\"} @ssl=#<Faraday::SSLOptions verify=true> @response=#<Faraday::Response:0x00007f9cc066ff08 ...> @response_headers={\"date\"=>\"Thu, 25 May 2023 09:06:28 GMT\", \"server\"=>\"uvicorn\", \"content-length\"=>\"235\", \"content-type\"=>\"application/json\"} @status=200 @reason_phrase=\"OK\" @response_body={\"index_name\"=>\"test\", \"status\"=>\"succeeded\", \"type\"=>\"documentDeletion\", \"details\"=>{\"receivedDocumentIds\"=>1, \"deletedDocuments\"=>1}, \"duration\"=>\"PT0.048612S\", \"startedAt\"=>\"2023-05-25T09:06:28.911354Z\", \"finishedAt\"=>\"2023-05-25T09:06:28.959966Z\"}>>"
      ]
     },
     "execution_count": 15,
     "metadata": {},
     "output_type": "execute_result"
    }
   ],
   "source": [
    "marqo.delete(\"c86db9f8-097d-4262-b7a6-43ae1538dbf0\")"
   ]
  },
  {
   "cell_type": "code",
   "execution_count": 16,
   "id": "7297f5bc-a7ac-4f87-87c7-96135aa24fab",
   "metadata": {},
   "outputs": [
    {
     "name": "stdout",
     "output_type": "stream",
     "text": []
    },
    {
     "name": "stdout",
     "output_type": "stream",
     "text": [
      "{\"hits\"=>\n",
      "  [{\"role\"=>\"user\",\n",
      "    \"content\"=>\"罗纳尔多是谁\",\n",
      "    \"_id\"=>\"d92b2fa3-5639-4852-a381-71163fba1c9a\",\n",
      "    \"_highlights\"=>{\"content\"=>\"罗纳尔多是谁\"},\n",
      "    \"_score\"=>0.77958477},\n",
      "   {\"role\"=>\"assistant\",\n",
      "    \"content\"=>\"是一个非常伟大的9号足球运动员，获得过世界杯冠军\",\n",
      "    \"_id\"=>\"bf70de34-be70-4e8c-b0e7-0612ef4026b2\",\n",
      "    \"_highlights\"=>{\"content\"=>\"是一个非常伟大的9号足球运动员，获得过世界杯冠军\"},\n",
      "    \"_score\"=>0.74781585},\n",
      "   {\"role\"=>\"user\",\n",
      "    \"content\"=>\"明天天气怎么样\",\n",
      "    \"_id\"=>\"87f35219-edf8-441b-8ded-f75851824890\",\n",
      "    \"_highlights\"=>{\"content\"=>\"明天天气怎么样\"},\n",
      "    \"_score\"=>0.71189624}],\n",
      " \"query\"=>\"那么罗纳尔多和齐达内谁厉害\",\n",
      " \"limit\"=>10,\n",
      " \"offset\"=>0,\n",
      " \"processingTimeMs\"=>48}\n"
     ]
    },
    {
     "data": {
      "text/plain": [
       "{\"hits\"=>[{\"role\"=>\"user\", \"content\"=>\"罗纳尔多是谁\", \"_id\"=>\"d92b2fa3-5639-4852-a381-71163fba1c9a\", \"_highlights\"=>{\"content\"=>\"罗纳尔多是谁\"}, \"_score\"=>0.77958477}, {\"role\"=>\"assistant\", \"content\"=>\"是一个非常伟大的9号足球运动员，获得过世界杯冠军\", \"_id\"=>\"bf70de34-be70-4e8c-b0e7-0612ef4026b2\", \"_highlights\"=>{\"content\"=>\"是一个非常伟大的9号足球运动员，获得过世界杯冠军\"}, \"_score\"=>0.74781585}, {\"role\"=>\"user\", \"content\"=>\"明天天气怎么样\", \"_id\"=>\"87f35219-edf8-441b-8ded-f75851824890\", \"_highlights\"=>{\"content\"=>\"明天天气怎么样\"}, \"_score\"=>0.71189624}], \"query\"=>\"那么罗纳尔多和齐达内谁厉害\", \"limit\"=>10, \"offset\"=>0, \"processingTimeMs\"=>48}"
      ]
     },
     "execution_count": 16,
     "metadata": {},
     "output_type": "execute_result"
    }
   ],
   "source": [
    "pp marqo.search(q: \"那么罗纳尔多和齐达内谁厉害\").body"
   ]
  },
  {
   "cell_type": "code",
   "execution_count": null,
   "id": "3b0e2a78-0dca-42ae-94b7-3868dbd4bb44",
   "metadata": {},
   "outputs": [],
   "source": [
    "marqo.remove # 谨慎调用，删除index所有数据"
   ]
  },
  {
   "cell_type": "markdown",
   "id": "da038161-d2b4-47ec-a803-f52a0b53b3b1",
   "metadata": {},
   "source": [
    "## 思考\n",
    "1. 如何设计 document 格式\n",
    "2. 我的设计对不对"
   ]
  },
  {
   "cell_type": "code",
   "execution_count": null,
   "id": "65a8c803-33eb-4fc9-8e71-b0c3f25d4794",
   "metadata": {},
   "outputs": [],
   "source": []
  }
 ],
 "metadata": {
  "kernelspec": {
   "display_name": "Ruby 3.2.2",
   "language": "ruby",
   "name": "ruby"
  },
  "language_info": {
   "file_extension": ".rb",
   "mimetype": "application/x-ruby",
   "name": "ruby",
   "version": "3.2.2"
  }
 },
 "nbformat": 4,
 "nbformat_minor": 5
}
