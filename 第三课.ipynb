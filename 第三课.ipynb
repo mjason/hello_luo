{
 "cells": [
  {
   "cell_type": "markdown",
   "id": "d6a899b1-c460-4639-bd31-d2ed336cb7de",
   "metadata": {},
   "source": [
    "# 第三课 Agent模式说明\n",
    "\n",
    "1. 用大模型做一个技能\n",
    "2. 引入 Agent 模式\n",
    "3. 使用 Agent 模式"
   ]
  },
  {
   "cell_type": "code",
   "execution_count": 2,
   "id": "410350b2-913e-42c1-97bc-deb086cac061",
   "metadata": {},
   "outputs": [
    {
     "name": "stdout",
     "output_type": "stream",
     "text": [
      "0.2.5\n"
     ]
    }
   ],
   "source": [
    "# 初始化运行环境\n",
    "require 'luo'\n",
    "\n",
    "Luo.notebook_setup do |loader|\n",
    "  loader.push_dir(File.join(__dir__, 'agents'))\n",
    "end\n",
    "\n",
    "puts Luo::VERSION"
   ]
  },
  {
   "cell_type": "markdown",
   "id": "369dc156-3146-49fb-aaf8-e65621140fe8",
   "metadata": {},
   "source": [
    "## Agent 模式说明\n",
    "Agent模式通常在API调用中使用，以便于进行更为复杂、交互性强的对话场景，比如在游戏、故事生成、辅导等应用中。在Agent模式下，模型会生成对话的一部分，不仅仅是回应一个单一的提示。在这种模式下，模型会更深入地理解对话的上下文，比如前面的对话内容、角色之间的关系等。这有助于模型生成更连贯、一致的对话内容。\n",
    "\n",
    "比如在一个故事生成的应用中，你可能想要模型生成一个角色的对话内容，而这个角色在整个故事中会有一致的性格和行为方式。通过使用Agent模式，你可以给模型提供这个角色的背景信息和性格特征，以便模型在生成对话内容时保持角色的一致性。\n",
    "\n",
    "总的来说，Agent模式可以帮助模型更好地理解复杂的对话场景，生成更连贯、一致的对话内容。"
   ]
  },
  {
   "cell_type": "code",
   "execution_count": 3,
   "id": "441f4afd-c29f-47ae-86a0-663d780245a4",
   "metadata": {},
   "outputs": [
    {
     "data": {
      "text/plain": [
       "Luo::XinghuoFinalAgent"
      ]
     },
     "execution_count": 3,
     "metadata": {},
     "output_type": "execute_result"
    }
   ],
   "source": [
    "# 在luo中，包装有 Agent模型的实现，你不需要了解怎么实现 Agent 模式，但是需要了解怎么处理\n",
    "\n",
    "class Runner < XinghuoAgentRunner\n",
    "  register WeatherAgent\n",
    "  register TimeAgent\n",
    "  register XinghuoFinalAgent\n",
    "end"
   ]
  },
  {
   "cell_type": "code",
   "execution_count": 4,
   "id": "1b7c0fbe-db78-4877-b185-4d581ca88ea3",
   "metadata": {},
   "outputs": [
    {
     "data": {
      "text/plain": [
       ":input"
      ]
     },
     "execution_count": 4,
     "metadata": {},
     "output_type": "execute_result"
    }
   ],
   "source": [
    "$runner = Runner.new\n",
    "\n",
    "def input(text)\n",
    "  context = $runner.call(text)\n",
    "  Helpers.display_md <<~MD\n",
    "  ## Input:\n",
    "  #{text}\n",
    "\n",
    "  ## Response:\n",
    "  #{context.response}\n",
    "\n",
    "  ## Final Result:\n",
    "  #{context.final_result}\n",
    "\n",
    "  ## History:\n",
    "  ```ruby\n",
    "  #{context.histories.to_a}\n",
    "  ```\n",
    "    MD\n",
    "    puts \"\\n\\n\\n\"\n",
    "end"
   ]
  },
  {
   "cell_type": "code",
   "execution_count": 5,
   "id": "2d14229f-b684-4955-90c3-bdd168168f95",
   "metadata": {},
   "outputs": [
    {
     "name": "stdout",
     "output_type": "stream",
     "text": [
      "** call aiui weather **\n"
     ]
    },
    {
     "data": {
      "text/html": [
       "<style>.highlight table td { padding: 5px; }\n",
       ".highlight table pre { margin: 0; }\n",
       ".highlight, .highlight .w {\n",
       "  color: #24292f;\n",
       "  background-color: #f6f8fa;\n",
       "}\n",
       ".highlight .k, .highlight .kd, .highlight .kn, .highlight .kp, .highlight .kr, .highlight .kt, .highlight .kv {\n",
       "  color: #cf222e;\n",
       "}\n",
       ".highlight .gr {\n",
       "  color: #f6f8fa;\n",
       "}\n",
       ".highlight .gd {\n",
       "  color: #82071e;\n",
       "  background-color: #ffebe9;\n",
       "}\n",
       ".highlight .nb {\n",
       "  color: #953800;\n",
       "}\n",
       ".highlight .nc {\n",
       "  color: #953800;\n",
       "}\n",
       ".highlight .no {\n",
       "  color: #953800;\n",
       "}\n",
       ".highlight .nn {\n",
       "  color: #953800;\n",
       "}\n",
       ".highlight .sr {\n",
       "  color: #116329;\n",
       "}\n",
       ".highlight .na {\n",
       "  color: #116329;\n",
       "}\n",
       ".highlight .nt {\n",
       "  color: #116329;\n",
       "}\n",
       ".highlight .gi {\n",
       "  color: #116329;\n",
       "  background-color: #dafbe1;\n",
       "}\n",
       ".highlight .kc {\n",
       "  color: #0550ae;\n",
       "}\n",
       ".highlight .l, .highlight .ld, .highlight .m, .highlight .mb, .highlight .mf, .highlight .mh, .highlight .mi, .highlight .il, .highlight .mo, .highlight .mx {\n",
       "  color: #0550ae;\n",
       "}\n",
       ".highlight .sb {\n",
       "  color: #0550ae;\n",
       "}\n",
       ".highlight .bp {\n",
       "  color: #0550ae;\n",
       "}\n",
       ".highlight .ne {\n",
       "  color: #0550ae;\n",
       "}\n",
       ".highlight .nl {\n",
       "  color: #0550ae;\n",
       "}\n",
       ".highlight .py {\n",
       "  color: #0550ae;\n",
       "}\n",
       ".highlight .nv, .highlight .vc, .highlight .vg, .highlight .vi, .highlight .vm {\n",
       "  color: #0550ae;\n",
       "}\n",
       ".highlight .o, .highlight .ow {\n",
       "  color: #0550ae;\n",
       "}\n",
       ".highlight .gh {\n",
       "  color: #0550ae;\n",
       "  font-weight: bold;\n",
       "}\n",
       ".highlight .gu {\n",
       "  color: #0550ae;\n",
       "  font-weight: bold;\n",
       "}\n",
       ".highlight .s, .highlight .sa, .highlight .sc, .highlight .dl, .highlight .sd, .highlight .s2, .highlight .se, .highlight .sh, .highlight .sx, .highlight .s1, .highlight .ss {\n",
       "  color: #0a3069;\n",
       "}\n",
       ".highlight .nd {\n",
       "  color: #8250df;\n",
       "}\n",
       ".highlight .nf, .highlight .fm {\n",
       "  color: #8250df;\n",
       "}\n",
       ".highlight .err {\n",
       "  color: #f6f8fa;\n",
       "  background-color: #82071e;\n",
       "}\n",
       ".highlight .c, .highlight .ch, .highlight .cd, .highlight .cm, .highlight .cp, .highlight .cpf, .highlight .c1, .highlight .cs {\n",
       "  color: #6e7781;\n",
       "}\n",
       ".highlight .gl {\n",
       "  color: #6e7781;\n",
       "}\n",
       ".highlight .gt {\n",
       "  color: #6e7781;\n",
       "}\n",
       ".highlight .ni {\n",
       "  color: #24292f;\n",
       "}\n",
       ".highlight .si {\n",
       "  color: #24292f;\n",
       "}\n",
       ".highlight .ge {\n",
       "  color: #24292f;\n",
       "  font-style: italic;\n",
       "}\n",
       ".highlight .gs {\n",
       "  color: #24292f;\n",
       "  font-weight: bold;\n",
       "}</style>\n",
       "<h2>Input:</h2>\n",
       "\n",
       "<p>明天的天气怎么样</p>\n",
       "\n",
       "<h2>Response:</h2>\n",
       "\n",
       "<p>调用工具：天气查询。</p>\n",
       "\n",
       "<h2>Final Result:</h2>\n",
       "\n",
       "<p>北京市明天全天晴，气温17℃ ~ 33℃，空气质量良，有西北风转北风3-4级，气候温暖。</p>\n",
       "\n",
       "<h2>History:</h2>\n",
       "<pre class=\"highlight\"><span class=\"p\">[{</span><span class=\"ss\">:role</span><span class=\"o\">=&gt;</span><span class=\"s2\">\"user\"</span><span class=\"p\">,</span> <span class=\"ss\">:content</span><span class=\"o\">=&gt;</span><span class=\"s2\">\"明天的天气怎么样\"</span><span class=\"p\">},</span> <span class=\"p\">{</span><span class=\"ss\">:role</span><span class=\"o\">=&gt;</span><span class=\"s2\">\"assistant\"</span><span class=\"p\">,</span> <span class=\"ss\">:content</span><span class=\"o\">=&gt;</span><span class=\"s2\">\"北京市明天全天晴，气温17℃ ~ 33℃，空气质量良，有西北风转北风3-4级，气候温暖。\"</span><span class=\"p\">}]</span>\n",
       "</pre>\n"
      ],
      "text/plain": [
       "\"<style>.highlight table td { padding: 5px; }\\n.highlight table pre { margin: 0; }\\n.highlight, .highlight .w {\\n  color: #24292f;\\n  background-color: #f6f8fa;\\n}\\n.highlight .k, .highlight .kd, .highlight .kn, .highlight .kp, .highlight .kr, .highlight .kt, .highlight .kv {\\n  color: #cf222e;\\n}\\n.highlight .gr {\\n  color: #f6f8fa;\\n}\\n.highlight .gd {\\n  color: #82071e;\\n  background-color: #ffebe9;\\n}\\n.highlight .nb {\\n  color: #953800;\\n}\\n.highlight .nc {\\n  color: #953800;\\n}\\n.highlight .no {\\n  color: #953800;\\n}\\n.highlight .nn {\\n  color: #953800;\\n}\\n.highlight .sr {\\n  color: #116329;\\n}\\n.highlight .na {\\n  color: #116329;\\n}\\n.highlight .nt {\\n  color: #116329;\\n}\\n.highlight .gi {\\n  color: #116329;\\n  background-color: #dafbe1;\\n}\\n.highlight .kc {\\n  color: #0550ae;\\n}\\n.highlight .l, .highlight .ld, .highlight .m, .highlight .mb, .highlight .mf, .highlight .mh, .highlight .mi, .highlight .il, .highlight .mo, .highlight .mx {\\n  color: #0550ae;\\n}\\n.highlight .sb {\\n  color: #0550ae;\\n}\\n.highlight .bp {\\n  color: #0550ae;\\n}\\n.highlight .ne {\\n  color: #0550ae;\\n}\\n.highlight .nl {\\n  color: #0550ae;\\n}\\n.highlight .py {\\n  color: #0550ae;\\n}\\n.highlight .nv, .highlight .vc, .highlight .vg, .highlight .vi, .highlight .vm {\\n  color: #0550ae;\\n}\\n.highlight .o, .highlight .ow {\\n  color: #0550ae;\\n}\\n.highlight .gh {\\n  color: #0550ae;\\n  font-weight: bold;\\n}\\n.highlight .gu {\\n  color: #0550ae;\\n  font-weight: bold;\\n}\\n.highlight .s, .highlight .sa, .highlight .sc, .highlight .dl, .highlight .sd, .highlight .s2, .highlight .se, .highlight .sh, .highlight .sx, .highlight .s1, .highlight .ss {\\n  color: #0a3069;\\n}\\n.highlight .nd {\\n  color: #8250df;\\n}\\n.highlight .nf, .highlight .fm {\\n  color: #8250df;\\n}\\n.highlight .err {\\n  color: #f6f8fa;\\n  background-color: #82071e;\\n}\\n.highlight .c, .highlight .ch, .highlight .cd, .highlight .cm, .highlight .cp, .highlight .cpf, .highlight .c1, .highlight .cs {\\n  color: #6e7781;\\n}\\n.highlight .gl {\\n  color: #6e7781;\\n}\\n.highlight .gt {\\n  color: #6e7781;\\n}\\n.highlight .ni {\\n  color: #24292f;\\n}\\n.highlight .si {\\n  color: #24292f;\\n}\\n.highlight .ge {\\n  color: #24292f;\\n  font-style: italic;\\n}\\n.highlight .gs {\\n  color: #24292f;\\n  font-weight: bold;\\n}</style>\\n<h2>Input:</h2>\\n\\n<p>明天的天气怎么样</p>\\n\\n<h2>Response:</h2>\\n\\n<p>调用工具：天气查询。</p>\\n\\n<h2>Final Result:</h2>\\n\\n<p>北京市明天全天晴，气温17℃ ~ 33℃，空气质量良，有西北风转北风3-4级，气候温暖。</p>\\n\\n<h2>History:</h2>\\n<pre class=\\\"highlight\\\"><span class=\\\"p\\\">[{</span><span class=\\\"ss\\\">:role</span><span class=\\\"o\\\">=&gt;</span><span class=\\\"s2\\\">\\\"user\\\"</span><span class=\\\"p\\\">,</span> <span class=\\\"ss\\\">:content</span><span class=\\\"o\\\">=&gt;</span><span class=\\\"s2\\\">\\\"明天的天气怎么样\\\"</span><span class=\\\"p\\\">},</span> <span class=\\\"p\\\">{</span><span class=\\\"ss\\\">:role</span><span class=\\\"o\\\">=&gt;</span><span class=\\\"s2\\\">\\\"assistant\\\"</span><span class=\\\"p\\\">,</span> <span class=\\\"ss\\\">:content</span><span class=\\\"o\\\">=&gt;</span><span class=\\\"s2\\\">\\\"北京市明天全天晴，气温17℃ ~ 33℃，空气质量良，有西北风转北风3-4级，气候温暖。\\\"</span><span class=\\\"p\\\">}]</span>\\n</pre>\\n\""
      ]
     },
     "metadata": {},
     "output_type": "display_data"
    },
    {
     "name": "stdout",
     "output_type": "stream",
     "text": [
      "\n",
      "\n",
      "\n"
     ]
    }
   ],
   "source": [
    "input \"明天的天气怎么样\""
   ]
  },
  {
   "cell_type": "code",
   "execution_count": 6,
   "id": "21f2144b-37ce-4d98-8624-34db58d08e69",
   "metadata": {},
   "outputs": [
    {
     "name": "stdout",
     "output_type": "stream",
     "text": [
      "** call aiui time **\n"
     ]
    },
    {
     "data": {
      "text/html": [
       "<style>.highlight table td { padding: 5px; }\n",
       ".highlight table pre { margin: 0; }\n",
       ".highlight, .highlight .w {\n",
       "  color: #24292f;\n",
       "  background-color: #f6f8fa;\n",
       "}\n",
       ".highlight .k, .highlight .kd, .highlight .kn, .highlight .kp, .highlight .kr, .highlight .kt, .highlight .kv {\n",
       "  color: #cf222e;\n",
       "}\n",
       ".highlight .gr {\n",
       "  color: #f6f8fa;\n",
       "}\n",
       ".highlight .gd {\n",
       "  color: #82071e;\n",
       "  background-color: #ffebe9;\n",
       "}\n",
       ".highlight .nb {\n",
       "  color: #953800;\n",
       "}\n",
       ".highlight .nc {\n",
       "  color: #953800;\n",
       "}\n",
       ".highlight .no {\n",
       "  color: #953800;\n",
       "}\n",
       ".highlight .nn {\n",
       "  color: #953800;\n",
       "}\n",
       ".highlight .sr {\n",
       "  color: #116329;\n",
       "}\n",
       ".highlight .na {\n",
       "  color: #116329;\n",
       "}\n",
       ".highlight .nt {\n",
       "  color: #116329;\n",
       "}\n",
       ".highlight .gi {\n",
       "  color: #116329;\n",
       "  background-color: #dafbe1;\n",
       "}\n",
       ".highlight .kc {\n",
       "  color: #0550ae;\n",
       "}\n",
       ".highlight .l, .highlight .ld, .highlight .m, .highlight .mb, .highlight .mf, .highlight .mh, .highlight .mi, .highlight .il, .highlight .mo, .highlight .mx {\n",
       "  color: #0550ae;\n",
       "}\n",
       ".highlight .sb {\n",
       "  color: #0550ae;\n",
       "}\n",
       ".highlight .bp {\n",
       "  color: #0550ae;\n",
       "}\n",
       ".highlight .ne {\n",
       "  color: #0550ae;\n",
       "}\n",
       ".highlight .nl {\n",
       "  color: #0550ae;\n",
       "}\n",
       ".highlight .py {\n",
       "  color: #0550ae;\n",
       "}\n",
       ".highlight .nv, .highlight .vc, .highlight .vg, .highlight .vi, .highlight .vm {\n",
       "  color: #0550ae;\n",
       "}\n",
       ".highlight .o, .highlight .ow {\n",
       "  color: #0550ae;\n",
       "}\n",
       ".highlight .gh {\n",
       "  color: #0550ae;\n",
       "  font-weight: bold;\n",
       "}\n",
       ".highlight .gu {\n",
       "  color: #0550ae;\n",
       "  font-weight: bold;\n",
       "}\n",
       ".highlight .s, .highlight .sa, .highlight .sc, .highlight .dl, .highlight .sd, .highlight .s2, .highlight .se, .highlight .sh, .highlight .sx, .highlight .s1, .highlight .ss {\n",
       "  color: #0a3069;\n",
       "}\n",
       ".highlight .nd {\n",
       "  color: #8250df;\n",
       "}\n",
       ".highlight .nf, .highlight .fm {\n",
       "  color: #8250df;\n",
       "}\n",
       ".highlight .err {\n",
       "  color: #f6f8fa;\n",
       "  background-color: #82071e;\n",
       "}\n",
       ".highlight .c, .highlight .ch, .highlight .cd, .highlight .cm, .highlight .cp, .highlight .cpf, .highlight .c1, .highlight .cs {\n",
       "  color: #6e7781;\n",
       "}\n",
       ".highlight .gl {\n",
       "  color: #6e7781;\n",
       "}\n",
       ".highlight .gt {\n",
       "  color: #6e7781;\n",
       "}\n",
       ".highlight .ni {\n",
       "  color: #24292f;\n",
       "}\n",
       ".highlight .si {\n",
       "  color: #24292f;\n",
       "}\n",
       ".highlight .ge {\n",
       "  color: #24292f;\n",
       "  font-style: italic;\n",
       "}\n",
       ".highlight .gs {\n",
       "  color: #24292f;\n",
       "  font-weight: bold;\n",
       "}</style>\n",
       "<h2>Input:</h2>\n",
       "\n",
       "<p>现在几点</p>\n",
       "\n",
       "<h2>Response:</h2>\n",
       "\n",
       "<p>调用工具：时间查询</p>\n",
       "\n",
       "<h2>Final Result:</h2>\n",
       "\n",
       "<p>现在是北京时间14点45分18秒。</p>\n",
       "\n",
       "<h2>History:</h2>\n",
       "<pre class=\"highlight\"><span class=\"p\">[{</span><span class=\"ss\">:role</span><span class=\"o\">=&gt;</span><span class=\"s2\">\"user\"</span><span class=\"p\">,</span> <span class=\"ss\">:content</span><span class=\"o\">=&gt;</span><span class=\"s2\">\"明天的天气怎么样\"</span><span class=\"p\">},</span> <span class=\"p\">{</span><span class=\"ss\">:role</span><span class=\"o\">=&gt;</span><span class=\"s2\">\"assistant\"</span><span class=\"p\">,</span> <span class=\"ss\">:content</span><span class=\"o\">=&gt;</span><span class=\"s2\">\"北京市明天全天晴，气温17℃ ~ 33℃，空气质量良，有西北风转北风3-4级，气候温暖。\"</span><span class=\"p\">},</span> <span class=\"p\">{</span><span class=\"ss\">:role</span><span class=\"o\">=&gt;</span><span class=\"s2\">\"user\"</span><span class=\"p\">,</span> <span class=\"ss\">:content</span><span class=\"o\">=&gt;</span><span class=\"s2\">\"现在几点\"</span><span class=\"p\">},</span> <span class=\"p\">{</span><span class=\"ss\">:role</span><span class=\"o\">=&gt;</span><span class=\"s2\">\"assistant\"</span><span class=\"p\">,</span> <span class=\"ss\">:content</span><span class=\"o\">=&gt;</span><span class=\"s2\">\"现在是北京时间14点45分18秒。\"</span><span class=\"p\">}]</span>\n",
       "</pre>\n"
      ],
      "text/plain": [
       "\"<style>.highlight table td { padding: 5px; }\\n.highlight table pre { margin: 0; }\\n.highlight, .highlight .w {\\n  color: #24292f;\\n  background-color: #f6f8fa;\\n}\\n.highlight .k, .highlight .kd, .highlight .kn, .highlight .kp, .highlight .kr, .highlight .kt, .highlight .kv {\\n  color: #cf222e;\\n}\\n.highlight .gr {\\n  color: #f6f8fa;\\n}\\n.highlight .gd {\\n  color: #82071e;\\n  background-color: #ffebe9;\\n}\\n.highlight .nb {\\n  color: #953800;\\n}\\n.highlight .nc {\\n  color: #953800;\\n}\\n.highlight .no {\\n  color: #953800;\\n}\\n.highlight .nn {\\n  color: #953800;\\n}\\n.highlight .sr {\\n  color: #116329;\\n}\\n.highlight .na {\\n  color: #116329;\\n}\\n.highlight .nt {\\n  color: #116329;\\n}\\n.highlight .gi {\\n  color: #116329;\\n  background-color: #dafbe1;\\n}\\n.highlight .kc {\\n  color: #0550ae;\\n}\\n.highlight .l, .highlight .ld, .highlight .m, .highlight .mb, .highlight .mf, .highlight .mh, .highlight .mi, .highlight .il, .highlight .mo, .highlight .mx {\\n  color: #0550ae;\\n}\\n.highlight .sb {\\n  color: #0550ae;\\n}\\n.highlight .bp {\\n  color: #0550ae;\\n}\\n.highlight .ne {\\n  color: #0550ae;\\n}\\n.highlight .nl {\\n  color: #0550ae;\\n}\\n.highlight .py {\\n  color: #0550ae;\\n}\\n.highlight .nv, .highlight .vc, .highlight .vg, .highlight .vi, .highlight .vm {\\n  color: #0550ae;\\n}\\n.highlight .o, .highlight .ow {\\n  color: #0550ae;\\n}\\n.highlight .gh {\\n  color: #0550ae;\\n  font-weight: bold;\\n}\\n.highlight .gu {\\n  color: #0550ae;\\n  font-weight: bold;\\n}\\n.highlight .s, .highlight .sa, .highlight .sc, .highlight .dl, .highlight .sd, .highlight .s2, .highlight .se, .highlight .sh, .highlight .sx, .highlight .s1, .highlight .ss {\\n  color: #0a3069;\\n}\\n.highlight .nd {\\n  color: #8250df;\\n}\\n.highlight .nf, .highlight .fm {\\n  color: #8250df;\\n}\\n.highlight .err {\\n  color: #f6f8fa;\\n  background-color: #82071e;\\n}\\n.highlight .c, .highlight .ch, .highlight .cd, .highlight .cm, .highlight .cp, .highlight .cpf, .highlight .c1, .highlight .cs {\\n  color: #6e7781;\\n}\\n.highlight .gl {\\n  color: #6e7781;\\n}\\n.highlight .gt {\\n  color: #6e7781;\\n}\\n.highlight .ni {\\n  color: #24292f;\\n}\\n.highlight .si {\\n  color: #24292f;\\n}\\n.highlight .ge {\\n  color: #24292f;\\n  font-style: italic;\\n}\\n.highlight .gs {\\n  color: #24292f;\\n  font-weight: bold;\\n}</style>\\n<h2>Input:</h2>\\n\\n<p>现在几点</p>\\n\\n<h2>Response:</h2>\\n\\n<p>调用工具：时间查询</p>\\n\\n<h2>Final Result:</h2>\\n\\n<p>现在是北京时间14点45分18秒。</p>\\n\\n<h2>History:</h2>\\n<pre class=\\\"highlight\\\"><span class=\\\"p\\\">[{</span><span class=\\\"ss\\\">:role</span><span class=\\\"o\\\">=&gt;</span><span class=\\\"s2\\\">\\\"user\\\"</span><span class=\\\"p\\\">,</span> <span class=\\\"ss\\\">:content</span><span class=\\\"o\\\">=&gt;</span><span class=\\\"s2\\\">\\\"明天的天气怎么样\\\"</span><span class=\\\"p\\\">},</span> <span class=\\\"p\\\">{</span><span class=\\\"ss\\\">:role</span><span class=\\\"o\\\">=&gt;</span><span class=\\\"s2\\\">\\\"assistant\\\"</span><span class=\\\"p\\\">,</span> <span class=\\\"ss\\\">:content</span><span class=\\\"o\\\">=&gt;</span><span class=\\\"s2\\\">\\\"北京市明天全天晴，气温17℃ ~ 33℃，空气质量良，有西北风转北风3-4级，气候温暖。\\\"</span><span class=\\\"p\\\">},</span> <span class=\\\"p\\\">{</span><span class=\\\"ss\\\">:role</span><span class=\\\"o\\\">=&gt;</span><span class=\\\"s2\\\">\\\"user\\\"</span><span class=\\\"p\\\">,</span> <span class=\\\"ss\\\">:content</span><span class=\\\"o\\\">=&gt;</span><span class=\\\"s2\\\">\\\"现在几点\\\"</span><span class=\\\"p\\\">},</span> <span class=\\\"p\\\">{</span><span class=\\\"ss\\\">:role</span><span class=\\\"o\\\">=&gt;</span><span class=\\\"s2\\\">\\\"assistant\\\"</span><span class=\\\"p\\\">,</span> <span class=\\\"ss\\\">:content</span><span class=\\\"o\\\">=&gt;</span><span class=\\\"s2\\\">\\\"现在是北京时间14点45分18秒。\\\"</span><span class=\\\"p\\\">}]</span>\\n</pre>\\n\""
      ]
     },
     "metadata": {},
     "output_type": "display_data"
    },
    {
     "name": "stdout",
     "output_type": "stream",
     "text": [
      "\n",
      "\n",
      "\n"
     ]
    }
   ],
   "source": [
    "input \"现在几点\""
   ]
  },
  {
   "cell_type": "code",
   "execution_count": 7,
   "id": "9c7064df-c1c3-49c7-9195-1099b60ed1bf",
   "metadata": {},
   "outputs": [
    {
     "data": {
      "text/plain": [
       ":call"
      ]
     },
     "execution_count": 7,
     "metadata": {},
     "output_type": "execute_result"
    }
   ],
   "source": [
    "class CodeAgent < Agent\n",
    "  agent_name '代码生成'\n",
    "  agent_desc '根据自然语音，生产对于的ruby代码'\n",
    "  \n",
    "  on_call do\n",
    "    system = \"你是一个ruby专家, 和我一起结对编程\"\n",
    "    prompt = PromptTemplate.new(text: \"<%= input %>\")\n",
    "    cain = LLMFunc.cain\n",
    "                  .system(system)\n",
    "                  .prompt(prompt)\n",
    "                  .adapter(OpenAI.llm_func_adapter)\n",
    "    context.final_result = cain.call(input: context.user_input)\n",
    "  end\n",
    "end"
   ]
  },
  {
   "cell_type": "code",
   "execution_count": 14,
   "id": "7bf7bc6d-15b4-4396-a741-c13f113156ca",
   "metadata": {},
   "outputs": [
    {
     "data": {
      "text/plain": [
       "CodeAgent"
      ]
     },
     "execution_count": 14,
     "metadata": {},
     "output_type": "execute_result"
    }
   ],
   "source": [
    "class Runner1 < XinghuoAgentRunner\n",
    "  register WeatherAgent\n",
    "  register TimeAgent\n",
    "  register XinghuoFinalAgent\n",
    "  register CodeAgent\n",
    "end"
   ]
  },
  {
   "cell_type": "code",
   "execution_count": 15,
   "id": "b521a3f9-219c-489b-a057-c58ae9903774",
   "metadata": {},
   "outputs": [
    {
     "data": {
      "text/plain": [
       "#<Runner1:0x00007f33f2714cb0>"
      ]
     },
     "execution_count": 15,
     "metadata": {},
     "output_type": "execute_result"
    }
   ],
   "source": [
    "$runner1 = Runner1.new"
   ]
  },
  {
   "cell_type": "code",
   "execution_count": 16,
   "id": "66402a38-606f-40ac-8c3b-e06e4af1ae75",
   "metadata": {},
   "outputs": [
    {
     "data": {
      "text/plain": [
       ":input1"
      ]
     },
     "execution_count": 16,
     "metadata": {},
     "output_type": "execute_result"
    }
   ],
   "source": [
    "def input1(text)\n",
    "  context = $runner1.call(text)\n",
    "  Helpers.display_md <<~MD\n",
    "  ## Input:\n",
    "  #{text}\n",
    "\n",
    "  ## Response:\n",
    "  #{context.response}\n",
    "\n",
    "  ## Final Result:\n",
    "  #{context.final_result}\n",
    "\n",
    "  ## History:\n",
    "  ```ruby\n",
    "  #{context.histories.to_a}\n",
    "  ```\n",
    "    MD\n",
    "    puts \"\\n\\n\\n\"\n",
    "end"
   ]
  },
  {
   "cell_type": "code",
   "execution_count": 17,
   "id": "1b946091-3b4f-4549-8264-73fb34c89455",
   "metadata": {},
   "outputs": [
    {
     "data": {
      "text/html": [
       "<style>.highlight table td { padding: 5px; }\n",
       ".highlight table pre { margin: 0; }\n",
       ".highlight, .highlight .w {\n",
       "  color: #24292f;\n",
       "  background-color: #f6f8fa;\n",
       "}\n",
       ".highlight .k, .highlight .kd, .highlight .kn, .highlight .kp, .highlight .kr, .highlight .kt, .highlight .kv {\n",
       "  color: #cf222e;\n",
       "}\n",
       ".highlight .gr {\n",
       "  color: #f6f8fa;\n",
       "}\n",
       ".highlight .gd {\n",
       "  color: #82071e;\n",
       "  background-color: #ffebe9;\n",
       "}\n",
       ".highlight .nb {\n",
       "  color: #953800;\n",
       "}\n",
       ".highlight .nc {\n",
       "  color: #953800;\n",
       "}\n",
       ".highlight .no {\n",
       "  color: #953800;\n",
       "}\n",
       ".highlight .nn {\n",
       "  color: #953800;\n",
       "}\n",
       ".highlight .sr {\n",
       "  color: #116329;\n",
       "}\n",
       ".highlight .na {\n",
       "  color: #116329;\n",
       "}\n",
       ".highlight .nt {\n",
       "  color: #116329;\n",
       "}\n",
       ".highlight .gi {\n",
       "  color: #116329;\n",
       "  background-color: #dafbe1;\n",
       "}\n",
       ".highlight .kc {\n",
       "  color: #0550ae;\n",
       "}\n",
       ".highlight .l, .highlight .ld, .highlight .m, .highlight .mb, .highlight .mf, .highlight .mh, .highlight .mi, .highlight .il, .highlight .mo, .highlight .mx {\n",
       "  color: #0550ae;\n",
       "}\n",
       ".highlight .sb {\n",
       "  color: #0550ae;\n",
       "}\n",
       ".highlight .bp {\n",
       "  color: #0550ae;\n",
       "}\n",
       ".highlight .ne {\n",
       "  color: #0550ae;\n",
       "}\n",
       ".highlight .nl {\n",
       "  color: #0550ae;\n",
       "}\n",
       ".highlight .py {\n",
       "  color: #0550ae;\n",
       "}\n",
       ".highlight .nv, .highlight .vc, .highlight .vg, .highlight .vi, .highlight .vm {\n",
       "  color: #0550ae;\n",
       "}\n",
       ".highlight .o, .highlight .ow {\n",
       "  color: #0550ae;\n",
       "}\n",
       ".highlight .gh {\n",
       "  color: #0550ae;\n",
       "  font-weight: bold;\n",
       "}\n",
       ".highlight .gu {\n",
       "  color: #0550ae;\n",
       "  font-weight: bold;\n",
       "}\n",
       ".highlight .s, .highlight .sa, .highlight .sc, .highlight .dl, .highlight .sd, .highlight .s2, .highlight .se, .highlight .sh, .highlight .sx, .highlight .s1, .highlight .ss {\n",
       "  color: #0a3069;\n",
       "}\n",
       ".highlight .nd {\n",
       "  color: #8250df;\n",
       "}\n",
       ".highlight .nf, .highlight .fm {\n",
       "  color: #8250df;\n",
       "}\n",
       ".highlight .err {\n",
       "  color: #f6f8fa;\n",
       "  background-color: #82071e;\n",
       "}\n",
       ".highlight .c, .highlight .ch, .highlight .cd, .highlight .cm, .highlight .cp, .highlight .cpf, .highlight .c1, .highlight .cs {\n",
       "  color: #6e7781;\n",
       "}\n",
       ".highlight .gl {\n",
       "  color: #6e7781;\n",
       "}\n",
       ".highlight .gt {\n",
       "  color: #6e7781;\n",
       "}\n",
       ".highlight .ni {\n",
       "  color: #24292f;\n",
       "}\n",
       ".highlight .si {\n",
       "  color: #24292f;\n",
       "}\n",
       ".highlight .ge {\n",
       "  color: #24292f;\n",
       "  font-style: italic;\n",
       "}\n",
       ".highlight .gs {\n",
       "  color: #24292f;\n",
       "  font-weight: bold;\n",
       "}</style>\n",
       "<h2>Input:</h2>\n",
       "\n",
       "<p>帮我写一段1加到100的代码</p>\n",
       "\n",
       "<h2>Response:</h2>\n",
       "\n",
       "<p>调用工具：代码生成。</p>\n",
       "\n",
       "<h2>Final Result:</h2>\n",
       "\n",
       "<p>{:input=&gt;&quot;帮我写一段1加到100的代码&quot;, :output=&gt;&quot;当然可以，以下是一个简单的 Ruby 代码，用于计算从 1 到 100 的所有整数的总和：\\n\\n<code>ruby\\nsum = 0\\n(1..100).each do |i|\\n  sum += i\\nend\\nputs sum\\n</code>\\n\\n这个代码使用了一个循环来遍历从 1 到 100 的所有整数，并将它们相加。最后，它将总和打印到控制台上。&quot;}</p>\n",
       "\n",
       "<h2>History:</h2>\n",
       "<pre class=\"highlight\"><span class=\"p\">[{</span><span class=\"ss\">:role</span><span class=\"o\">=&gt;</span><span class=\"s2\">\"user\"</span><span class=\"p\">,</span> <span class=\"ss\">:content</span><span class=\"o\">=&gt;</span><span class=\"s2\">\"帮我写一段1加到100的代码\"</span><span class=\"p\">},</span> <span class=\"p\">{</span><span class=\"ss\">:role</span><span class=\"o\">=&gt;</span><span class=\"s2\">\"assistant\"</span><span class=\"p\">,</span> <span class=\"ss\">:content</span><span class=\"o\">=&gt;</span><span class=\"c1\">#&lt;Luo::Middleware::Env:0x00007f33f266fe68 @meta={:input=&gt;\"帮我写一段1加到100的代码\", :output=&gt;\"当然可以，以下是一个简单的 Ruby 代码，用于计算从 1 到 100 的所有整数的总和：\\n\\n```ruby\\nsum = 0\\n(1..100).each do |i|\\n  sum += i\\nend\\nputs sum\\n```\\n\\n这个代码使用了一个循环来遍历从 1 到 100 的所有整数，并将它们相加。最后，它将总和打印到控制台上。\"}&gt;}]</span>\n",
       "</pre>\n"
      ],
      "text/plain": [
       "\"<style>.highlight table td { padding: 5px; }\\n.highlight table pre { margin: 0; }\\n.highlight, .highlight .w {\\n  color: #24292f;\\n  background-color: #f6f8fa;\\n}\\n.highlight .k, .highlight .kd, .highlight .kn, .highlight .kp, .highlight .kr, .highlight .kt, .highlight .kv {\\n  color: #cf222e;\\n}\\n.highlight .gr {\\n  color: #f6f8fa;\\n}\\n.highlight .gd {\\n  color: #82071e;\\n  background-color: #ffebe9;\\n}\\n.highlight .nb {\\n  color: #953800;\\n}\\n.highlight .nc {\\n  color: #953800;\\n}\\n.highlight .no {\\n  color: #953800;\\n}\\n.highlight .nn {\\n  color: #953800;\\n}\\n.highlight .sr {\\n  color: #116329;\\n}\\n.highlight .na {\\n  color: #116329;\\n}\\n.highlight .nt {\\n  color: #116329;\\n}\\n.highlight .gi {\\n  color: #116329;\\n  background-color: #dafbe1;\\n}\\n.highlight .kc {\\n  color: #0550ae;\\n}\\n.highlight .l, .highlight .ld, .highlight .m, .highlight .mb, .highlight .mf, .highlight .mh, .highlight .mi, .highlight .il, .highlight .mo, .highlight .mx {\\n  color: #0550ae;\\n}\\n.highlight .sb {\\n  color: #0550ae;\\n}\\n.highlight .bp {\\n  color: #0550ae;\\n}\\n.highlight .ne {\\n  color: #0550ae;\\n}\\n.highlight .nl {\\n  color: #0550ae;\\n}\\n.highlight .py {\\n  color: #0550ae;\\n}\\n.highlight .nv, .highlight .vc, .highlight .vg, .highlight .vi, .highlight .vm {\\n  color: #0550ae;\\n}\\n.highlight .o, .highlight .ow {\\n  color: #0550ae;\\n}\\n.highlight .gh {\\n  color: #0550ae;\\n  font-weight: bold;\\n}\\n.highlight .gu {\\n  color: #0550ae;\\n  font-weight: bold;\\n}\\n.highlight .s, .highlight .sa, .highlight .sc, .highlight .dl, .highlight .sd, .highlight .s2, .highlight .se, .highlight .sh, .highlight .sx, .highlight .s1, .highlight .ss {\\n  color: #0a3069;\\n}\\n.highlight .nd {\\n  color: #8250df;\\n}\\n.highlight .nf, .highlight .fm {\\n  color: #8250df;\\n}\\n.highlight .err {\\n  color: #f6f8fa;\\n  background-color: #82071e;\\n}\\n.highlight .c, .highlight .ch, .highlight .cd, .highlight .cm, .highlight .cp, .highlight .cpf, .highlight .c1, .highlight .cs {\\n  color: #6e7781;\\n}\\n.highlight .gl {\\n  color: #6e7781;\\n}\\n.highlight .gt {\\n  color: #6e7781;\\n}\\n.highlight .ni {\\n  color: #24292f;\\n}\\n.highlight .si {\\n  color: #24292f;\\n}\\n.highlight .ge {\\n  color: #24292f;\\n  font-style: italic;\\n}\\n.highlight .gs {\\n  color: #24292f;\\n  font-weight: bold;\\n}</style>\\n<h2>Input:</h2>\\n\\n<p>帮我写一段1加到100的代码</p>\\n\\n<h2>Response:</h2>\\n\\n<p>调用工具：代码生成。</p>\\n\\n<h2>Final Result:</h2>\\n\\n<p>{:input=&gt;&quot;帮我写一段1加到100的代码&quot;, :output=&gt;&quot;当然可以，以下是一个简单的 Ruby 代码，用于计算从 1 到 100 的所有整数的总和：\\\\n\\\\n<code>ruby\\\\nsum = 0\\\\n(1..100).each do |i|\\\\n  sum += i\\\\nend\\\\nputs sum\\\\n</code>\\\\n\\\\n这个代码使用了一个循环来遍历从 1 到 100 的所有整数，并将它们相加。最后，它将总和打印到控制台上。&quot;}</p>\\n\\n<h2>History:</h2>\\n<pre class=\\\"highlight\\\"><span class=\\\"p\\\">[{</span><span class=\\\"ss\\\">:role</span><span class=\\\"o\\\">=&gt;</span><span class=\\\"s2\\\">\\\"user\\\"</span><span class=\\\"p\\\">,</span> <span class=\\\"ss\\\">:content</span><span class=\\\"o\\\">=&gt;</span><span class=\\\"s2\\\">\\\"帮我写一段1加到100的代码\\\"</span><span class=\\\"p\\\">},</span> <span class=\\\"p\\\">{</span><span class=\\\"ss\\\">:role</span><span class=\\\"o\\\">=&gt;</span><span class=\\\"s2\\\">\\\"assistant\\\"</span><span class=\\\"p\\\">,</span> <span class=\\\"ss\\\">:content</span><span class=\\\"o\\\">=&gt;</span><span class=\\\"c1\\\">#&lt;Luo::Middleware::Env:0x00007f33f266fe68 @meta={:input=&gt;\\\"帮我写一段1加到100的代码\\\", :output=&gt;\\\"当然可以，以下是一个简单的 Ruby 代码，用于计算从 1 到 100 的所有整数的总和：\\\\n\\\\n```ruby\\\\nsum = 0\\\\n(1..100).each do |i|\\\\n  sum += i\\\\nend\\\\nputs sum\\\\n```\\\\n\\\\n这个代码使用了一个循环来遍历从 1 到 100 的所有整数，并将它们相加。最后，它将总和打印到控制台上。\\\"}&gt;}]</span>\\n</pre>\\n\""
      ]
     },
     "metadata": {},
     "output_type": "display_data"
    },
    {
     "name": "stdout",
     "output_type": "stream",
     "text": [
      "\n",
      "\n",
      "\n"
     ]
    }
   ],
   "source": [
    "input1 \"帮我写一段1加到100的代码\""
   ]
  },
  {
   "cell_type": "code",
   "execution_count": null,
   "id": "89d431d8-4968-4fe6-99ae-cd220d5bee15",
   "metadata": {},
   "outputs": [],
   "source": []
  }
 ],
 "metadata": {
  "kernelspec": {
   "display_name": "Ruby 3.2.2",
   "language": "ruby",
   "name": "ruby"
  },
  "language_info": {
   "file_extension": ".rb",
   "mimetype": "application/x-ruby",
   "name": "ruby",
   "version": "3.2.2"
  }
 },
 "nbformat": 4,
 "nbformat_minor": 5
}
