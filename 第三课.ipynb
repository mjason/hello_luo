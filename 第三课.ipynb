{
 "cells": [
  {
   "cell_type": "markdown",
   "id": "d6a899b1-c460-4639-bd31-d2ed336cb7de",
   "metadata": {},
   "source": [
    "# 第三课 Agent模式说明\n",
    "\n",
    "1. 用大模型做一个技能\n",
    "2. 引入 Agent 模式\n",
    "3. 使用 Agent 模式"
   ]
  },
  {
   "cell_type": "code",
   "execution_count": 1,
   "id": "410350b2-913e-42c1-97bc-deb086cac061",
   "metadata": {},
   "outputs": [
    {
     "data": {
      "text/plain": [
       "true"
      ]
     },
     "execution_count": 1,
     "metadata": {},
     "output_type": "execute_result"
    }
   ],
   "source": [
    "# 初始化运行环境\n",
    "require_relative \"init\"\n",
    "require 'pry'\n",
    "IRuby::Kernel.instance.switch_backend!(:pry)"
   ]
  },
  {
   "cell_type": "markdown",
   "id": "1c606bab-e641-4ff1-a025-83443c16dcf3",
   "metadata": {},
   "source": [
    "## 使用大模型做一个 Skill\n",
    "\n",
    "1. 请润润来讲"
   ]
  },
  {
   "cell_type": "markdown",
   "id": "369dc156-3146-49fb-aaf8-e65621140fe8",
   "metadata": {},
   "source": [
    "## Agent 模式说明\n",
    "Agent模式通常在API调用中使用，以便于进行更为复杂、交互性强的对话场景，比如在游戏、故事生成、辅导等应用中。在Agent模式下，模型会生成对话的一部分，不仅仅是回应一个单一的提示。在这种模式下，模型会更深入地理解对话的上下文，比如前面的对话内容、角色之间的关系等。这有助于模型生成更连贯、一致的对话内容。\n",
    "\n",
    "比如在一个故事生成的应用中，你可能想要模型生成一个角色的对话内容，而这个角色在整个故事中会有一致的性格和行为方式。通过使用Agent模式，你可以给模型提供这个角色的背景信息和性格特征，以便模型在生成对话内容时保持角色的一致性。\n",
    "\n",
    "总的来说，Agent模式可以帮助模型更好地理解复杂的对话场景，生成更连贯、一致的对话内容。"
   ]
  },
  {
   "cell_type": "code",
   "execution_count": 2,
   "id": "441f4afd-c29f-47ae-86a0-663d780245a4",
   "metadata": {},
   "outputs": [
    {
     "data": {
      "text/plain": [
       "Luo::XinghuoFinalAgent"
      ]
     },
     "execution_count": 2,
     "metadata": {},
     "output_type": "execute_result"
    }
   ],
   "source": [
    "# 在luo中，包装有 Agent模型的实现，你不需要了解怎么实现 Agent 模式，但是需要了解怎么处理\n",
    "\n",
    "class Runner < XinghuoAgentRunner\n",
    "  register WeatherAgent\n",
    "  register TimeAgent\n",
    "  register XinghuoFinalAgent\n",
    "end"
   ]
  },
  {
   "cell_type": "code",
   "execution_count": 3,
   "id": "1b7c0fbe-db78-4877-b185-4d581ca88ea3",
   "metadata": {},
   "outputs": [
    {
     "data": {
      "text/plain": [
       ":input"
      ]
     },
     "execution_count": 3,
     "metadata": {},
     "output_type": "execute_result"
    }
   ],
   "source": [
    "$runner = Runner.new\n",
    "\n",
    "def input(text)\n",
    "  context = $runner.call(text)\n",
    "  Helpers.print_md <<~MD\n",
    "  ## Input:\n",
    "  #{text}\n",
    "\n",
    "  ## Response:\n",
    "  #{context.response}\n",
    "\n",
    "  ## Final Result:\n",
    "  #{context.final_result}\n",
    "\n",
    "  ## History:\n",
    "  ```ruby\n",
    "  #{context.histories.to_a}\n",
    "  ```\n",
    "    MD\n",
    "    puts \"\\n\\n\\n\"\n",
    "end"
   ]
  },
  {
   "cell_type": "code",
   "execution_count": 4,
   "id": "2d14229f-b684-4955-90c3-bdd168168f95",
   "metadata": {},
   "outputs": [
    {
     "name": "stdout",
     "output_type": "stream",
     "text": [
      "** call aiui weather **\n",
      "  Input:\n",
      "  明天的天气怎么样\n",
      "\n",
      "  Response:\n",
      "  调用工具：天气查询。\n",
      "\n",
      "  Final Result:\n",
      "  北京市明天全天多云，气温15℃ ~ 28℃，空气质量良，有东南风转南风微风，有点热。\n",
      "\n",
      "  History:\n",
      "  [{:role=>\"user\", :content=>\"明天的天气怎么样\"}, {:role=>\"assistant\", \n",
      "  :content=>\"北京市明天全天多云，气温15℃ ~ \n",
      "  28℃，空气质量良，有东南风转南风微风，有点热。\"}]\n",
      "\n",
      "\n",
      "\n"
     ]
    }
   ],
   "source": [
    "input \"明天的天气怎么样\""
   ]
  },
  {
   "cell_type": "code",
   "execution_count": null,
   "id": "b7bc4c90-8816-4e6b-980f-ab40260166b7",
   "metadata": {},
   "outputs": [],
   "source": []
  }
 ],
 "metadata": {
  "kernelspec": {
   "display_name": "Ruby 3.2.2",
   "language": "ruby",
   "name": "ruby"
  },
  "language_info": {
   "file_extension": ".rb",
   "mimetype": "application/x-ruby",
   "name": "ruby",
   "version": "3.2.2"
  }
 },
 "nbformat": 4,
 "nbformat_minor": 5
}
